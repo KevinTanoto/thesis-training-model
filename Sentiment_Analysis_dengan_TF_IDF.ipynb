{
  "nbformat": 4,
  "nbformat_minor": 0,
  "metadata": {
    "colab": {
      "provenance": []
    },
    "kernelspec": {
      "name": "python3",
      "display_name": "Python 3"
    },
    "accelerator": "GPU"
  },
  "cells": [
    {
      "cell_type": "markdown",
      "metadata": {
        "id": "M2AhBj-N9MdA"
      },
      "source": [
        "## Menginstall Library yang dibutuhkan"
      ]
    },
    {
      "cell_type": "code",
      "metadata": {
        "id": "BzkwuQqF8-UG"
      },
      "source": [
        "!pip install numpy\n",
        "!pip install pandas\n",
        "!pip install matplotlib\n",
        "!pip install seaborn\n",
        "!pip install nltk"
      ],
      "execution_count": null,
      "outputs": []
    },
    {
      "cell_type": "markdown",
      "metadata": {
        "id": "SViBdI7F9SaZ"
      },
      "source": [
        "## Melakukan Import Library"
      ]
    },
    {
      "cell_type": "code",
      "metadata": {
        "id": "lAcgcQJx9VsX",
        "outputId": "dda11736-b96b-4027-db4d-d5f55b8ad244",
        "colab": {
          "base_uri": "https://localhost:8080/"
        }
      },
      "source": [
        "import numpy as np\n",
        "import pandas as pd\n",
        "import re\n",
        "import nltk\n",
        "nltk.download('stopwords')\n",
        "from nltk.corpus import stopwords\n",
        "import seaborn as sns\n",
        "import matplotlib.pyplot as plt"
      ],
      "execution_count": null,
      "outputs": [
        {
          "output_type": "stream",
          "name": "stderr",
          "text": [
            "[nltk_data] Downloading package stopwords to /root/nltk_data...\n",
            "[nltk_data]   Unzipping corpora/stopwords.zip.\n"
          ]
        }
      ]
    },
    {
      "cell_type": "markdown",
      "metadata": {
        "id": "pc1_REBT9Z9j"
      },
      "source": [
        "## Import Dataset"
      ]
    },
    {
      "cell_type": "code",
      "metadata": {
        "id": "Lj6jqBn09e-o"
      },
      "source": [
        "data_1 = pd.read_csv(\"/content/sample_data/anies_100sample_test.csv\")\n",
        "data_2 = pd.read_csv(\"/content/sample_data/anies_100sample_train.csv\")\n",
        "data_3 = pd.read_csv(\"/content/sample_data/ganjar_100sample_test.csv\")\n",
        "data_4 = pd.read_csv(\"/content/sample_data/ganjar_100sample_train.csv\")\n",
        "data_5 = pd.read_csv(\"/content/sample_data/prabowo_100sample_train.csv\")\n",
        "\n",
        "# t_1 = data[data['airline_sentiment']=='positive']#.sample(100,replace=True)\n",
        "# t_2 = data[data['airline_sentiment']=='negative']#.sample(400,replace=True)\n",
        "# tweets = pd.concat([t_1, t_2])"
      ],
      "execution_count": null,
      "outputs": []
    },
    {
      "cell_type": "code",
      "source": [
        "data_2.rename(columns={'sentence': 'Text','overall':'label'}, inplace=True)"
      ],
      "metadata": {
        "id": "cMqDSvQ5mRWj"
      },
      "execution_count": null,
      "outputs": []
    },
    {
      "cell_type": "code",
      "source": [
        "data_2.info()"
      ],
      "metadata": {
        "colab": {
          "base_uri": "https://localhost:8080/"
        },
        "id": "1CL_ngBHmii8",
        "outputId": "ea91f900-48b7-4ac6-a395-6712a9b6cb4c"
      },
      "execution_count": null,
      "outputs": [
        {
          "output_type": "stream",
          "name": "stdout",
          "text": [
            "<class 'pandas.core.frame.DataFrame'>\n",
            "RangeIndex: 100 entries, 0 to 99\n",
            "Data columns (total 2 columns):\n",
            " #   Column  Non-Null Count  Dtype \n",
            "---  ------  --------------  ----- \n",
            " 0   Text    100 non-null    object\n",
            " 1   label   100 non-null    object\n",
            "dtypes: object(2)\n",
            "memory usage: 1.7+ KB\n"
          ]
        }
      ]
    },
    {
      "cell_type": "code",
      "source": [
        "data_1 = data_1[[\"Text\",\"label\"]]\n",
        "data_2 = data_2[[\"Text\",\"label\"]]\n",
        "data_3 = data_3[[\"Text\",\"label\"]]\n",
        "data_4 = data_4[[\"Text\",\"label\"]]\n",
        "data_5 = data_5[[\"Text\",\"label\"]]"
      ],
      "metadata": {
        "id": "yK7B2N1HlxCt"
      },
      "execution_count": null,
      "outputs": []
    },
    {
      "cell_type": "code",
      "source": [
        "data_test.head()"
      ],
      "metadata": {
        "colab": {
          "base_uri": "https://localhost:8080/",
          "height": 206
        },
        "id": "d_UAU_yVmLZL",
        "outputId": "df05fa52-db7f-48b4-ec65-2fc86627c02a"
      },
      "execution_count": null,
      "outputs": [
        {
          "output_type": "execute_result",
          "data": {
            "text/plain": [
              "                                                Text     label\n",
              "0  mastoto, sorry, i'm from a village far from th...  Positive\n",
              "1  fahri hamzah flicks ahy speak for himself demo...  Positive\n",
              "2  admitting that he is ready to debate, ali refu...  Positive\n",
              "3          o allah, make mr anies baswedan president  Negative\n",
              "4                   come on, let's get together, bro  Negative"
            ],
            "text/html": [
              "\n",
              "  <div id=\"df-fce0db9f-971e-40d7-95b6-034f86eef4ea\" class=\"colab-df-container\">\n",
              "    <div>\n",
              "<style scoped>\n",
              "    .dataframe tbody tr th:only-of-type {\n",
              "        vertical-align: middle;\n",
              "    }\n",
              "\n",
              "    .dataframe tbody tr th {\n",
              "        vertical-align: top;\n",
              "    }\n",
              "\n",
              "    .dataframe thead th {\n",
              "        text-align: right;\n",
              "    }\n",
              "</style>\n",
              "<table border=\"1\" class=\"dataframe\">\n",
              "  <thead>\n",
              "    <tr style=\"text-align: right;\">\n",
              "      <th></th>\n",
              "      <th>Text</th>\n",
              "      <th>label</th>\n",
              "    </tr>\n",
              "  </thead>\n",
              "  <tbody>\n",
              "    <tr>\n",
              "      <th>0</th>\n",
              "      <td>mastoto, sorry, i'm from a village far from th...</td>\n",
              "      <td>Positive</td>\n",
              "    </tr>\n",
              "    <tr>\n",
              "      <th>1</th>\n",
              "      <td>fahri hamzah flicks ahy speak for himself demo...</td>\n",
              "      <td>Positive</td>\n",
              "    </tr>\n",
              "    <tr>\n",
              "      <th>2</th>\n",
              "      <td>admitting that he is ready to debate, ali refu...</td>\n",
              "      <td>Positive</td>\n",
              "    </tr>\n",
              "    <tr>\n",
              "      <th>3</th>\n",
              "      <td>o allah, make mr anies baswedan president</td>\n",
              "      <td>Negative</td>\n",
              "    </tr>\n",
              "    <tr>\n",
              "      <th>4</th>\n",
              "      <td>come on, let's get together, bro</td>\n",
              "      <td>Negative</td>\n",
              "    </tr>\n",
              "  </tbody>\n",
              "</table>\n",
              "</div>\n",
              "    <div class=\"colab-df-buttons\">\n",
              "\n",
              "  <div class=\"colab-df-container\">\n",
              "    <button class=\"colab-df-convert\" onclick=\"convertToInteractive('df-fce0db9f-971e-40d7-95b6-034f86eef4ea')\"\n",
              "            title=\"Convert this dataframe to an interactive table.\"\n",
              "            style=\"display:none;\">\n",
              "\n",
              "  <svg xmlns=\"http://www.w3.org/2000/svg\" height=\"24px\" viewBox=\"0 -960 960 960\">\n",
              "    <path d=\"M120-120v-720h720v720H120Zm60-500h600v-160H180v160Zm220 220h160v-160H400v160Zm0 220h160v-160H400v160ZM180-400h160v-160H180v160Zm440 0h160v-160H620v160ZM180-180h160v-160H180v160Zm440 0h160v-160H620v160Z\"/>\n",
              "  </svg>\n",
              "    </button>\n",
              "\n",
              "  <style>\n",
              "    .colab-df-container {\n",
              "      display:flex;\n",
              "      gap: 12px;\n",
              "    }\n",
              "\n",
              "    .colab-df-convert {\n",
              "      background-color: #E8F0FE;\n",
              "      border: none;\n",
              "      border-radius: 50%;\n",
              "      cursor: pointer;\n",
              "      display: none;\n",
              "      fill: #1967D2;\n",
              "      height: 32px;\n",
              "      padding: 0 0 0 0;\n",
              "      width: 32px;\n",
              "    }\n",
              "\n",
              "    .colab-df-convert:hover {\n",
              "      background-color: #E2EBFA;\n",
              "      box-shadow: 0px 1px 2px rgba(60, 64, 67, 0.3), 0px 1px 3px 1px rgba(60, 64, 67, 0.15);\n",
              "      fill: #174EA6;\n",
              "    }\n",
              "\n",
              "    .colab-df-buttons div {\n",
              "      margin-bottom: 4px;\n",
              "    }\n",
              "\n",
              "    [theme=dark] .colab-df-convert {\n",
              "      background-color: #3B4455;\n",
              "      fill: #D2E3FC;\n",
              "    }\n",
              "\n",
              "    [theme=dark] .colab-df-convert:hover {\n",
              "      background-color: #434B5C;\n",
              "      box-shadow: 0px 1px 3px 1px rgba(0, 0, 0, 0.15);\n",
              "      filter: drop-shadow(0px 1px 2px rgba(0, 0, 0, 0.3));\n",
              "      fill: #FFFFFF;\n",
              "    }\n",
              "  </style>\n",
              "\n",
              "    <script>\n",
              "      const buttonEl =\n",
              "        document.querySelector('#df-fce0db9f-971e-40d7-95b6-034f86eef4ea button.colab-df-convert');\n",
              "      buttonEl.style.display =\n",
              "        google.colab.kernel.accessAllowed ? 'block' : 'none';\n",
              "\n",
              "      async function convertToInteractive(key) {\n",
              "        const element = document.querySelector('#df-fce0db9f-971e-40d7-95b6-034f86eef4ea');\n",
              "        const dataTable =\n",
              "          await google.colab.kernel.invokeFunction('convertToInteractive',\n",
              "                                                    [key], {});\n",
              "        if (!dataTable) return;\n",
              "\n",
              "        const docLinkHtml = 'Like what you see? Visit the ' +\n",
              "          '<a target=\"_blank\" href=https://colab.research.google.com/notebooks/data_table.ipynb>data table notebook</a>'\n",
              "          + ' to learn more about interactive tables.';\n",
              "        element.innerHTML = '';\n",
              "        dataTable['output_type'] = 'display_data';\n",
              "        await google.colab.output.renderOutput(dataTable, element);\n",
              "        const docLink = document.createElement('div');\n",
              "        docLink.innerHTML = docLinkHtml;\n",
              "        element.appendChild(docLink);\n",
              "      }\n",
              "    </script>\n",
              "  </div>\n",
              "\n",
              "\n",
              "<div id=\"df-5f50a286-071d-4182-8b98-480293a2090c\">\n",
              "  <button class=\"colab-df-quickchart\" onclick=\"quickchart('df-5f50a286-071d-4182-8b98-480293a2090c')\"\n",
              "            title=\"Suggest charts\"\n",
              "            style=\"display:none;\">\n",
              "\n",
              "<svg xmlns=\"http://www.w3.org/2000/svg\" height=\"24px\"viewBox=\"0 0 24 24\"\n",
              "     width=\"24px\">\n",
              "    <g>\n",
              "        <path d=\"M19 3H5c-1.1 0-2 .9-2 2v14c0 1.1.9 2 2 2h14c1.1 0 2-.9 2-2V5c0-1.1-.9-2-2-2zM9 17H7v-7h2v7zm4 0h-2V7h2v10zm4 0h-2v-4h2v4z\"/>\n",
              "    </g>\n",
              "</svg>\n",
              "  </button>\n",
              "\n",
              "<style>\n",
              "  .colab-df-quickchart {\n",
              "      --bg-color: #E8F0FE;\n",
              "      --fill-color: #1967D2;\n",
              "      --hover-bg-color: #E2EBFA;\n",
              "      --hover-fill-color: #174EA6;\n",
              "      --disabled-fill-color: #AAA;\n",
              "      --disabled-bg-color: #DDD;\n",
              "  }\n",
              "\n",
              "  [theme=dark] .colab-df-quickchart {\n",
              "      --bg-color: #3B4455;\n",
              "      --fill-color: #D2E3FC;\n",
              "      --hover-bg-color: #434B5C;\n",
              "      --hover-fill-color: #FFFFFF;\n",
              "      --disabled-bg-color: #3B4455;\n",
              "      --disabled-fill-color: #666;\n",
              "  }\n",
              "\n",
              "  .colab-df-quickchart {\n",
              "    background-color: var(--bg-color);\n",
              "    border: none;\n",
              "    border-radius: 50%;\n",
              "    cursor: pointer;\n",
              "    display: none;\n",
              "    fill: var(--fill-color);\n",
              "    height: 32px;\n",
              "    padding: 0;\n",
              "    width: 32px;\n",
              "  }\n",
              "\n",
              "  .colab-df-quickchart:hover {\n",
              "    background-color: var(--hover-bg-color);\n",
              "    box-shadow: 0 1px 2px rgba(60, 64, 67, 0.3), 0 1px 3px 1px rgba(60, 64, 67, 0.15);\n",
              "    fill: var(--button-hover-fill-color);\n",
              "  }\n",
              "\n",
              "  .colab-df-quickchart-complete:disabled,\n",
              "  .colab-df-quickchart-complete:disabled:hover {\n",
              "    background-color: var(--disabled-bg-color);\n",
              "    fill: var(--disabled-fill-color);\n",
              "    box-shadow: none;\n",
              "  }\n",
              "\n",
              "  .colab-df-spinner {\n",
              "    border: 2px solid var(--fill-color);\n",
              "    border-color: transparent;\n",
              "    border-bottom-color: var(--fill-color);\n",
              "    animation:\n",
              "      spin 1s steps(1) infinite;\n",
              "  }\n",
              "\n",
              "  @keyframes spin {\n",
              "    0% {\n",
              "      border-color: transparent;\n",
              "      border-bottom-color: var(--fill-color);\n",
              "      border-left-color: var(--fill-color);\n",
              "    }\n",
              "    20% {\n",
              "      border-color: transparent;\n",
              "      border-left-color: var(--fill-color);\n",
              "      border-top-color: var(--fill-color);\n",
              "    }\n",
              "    30% {\n",
              "      border-color: transparent;\n",
              "      border-left-color: var(--fill-color);\n",
              "      border-top-color: var(--fill-color);\n",
              "      border-right-color: var(--fill-color);\n",
              "    }\n",
              "    40% {\n",
              "      border-color: transparent;\n",
              "      border-right-color: var(--fill-color);\n",
              "      border-top-color: var(--fill-color);\n",
              "    }\n",
              "    60% {\n",
              "      border-color: transparent;\n",
              "      border-right-color: var(--fill-color);\n",
              "    }\n",
              "    80% {\n",
              "      border-color: transparent;\n",
              "      border-right-color: var(--fill-color);\n",
              "      border-bottom-color: var(--fill-color);\n",
              "    }\n",
              "    90% {\n",
              "      border-color: transparent;\n",
              "      border-bottom-color: var(--fill-color);\n",
              "    }\n",
              "  }\n",
              "</style>\n",
              "\n",
              "  <script>\n",
              "    async function quickchart(key) {\n",
              "      const quickchartButtonEl =\n",
              "        document.querySelector('#' + key + ' button');\n",
              "      quickchartButtonEl.disabled = true;  // To prevent multiple clicks.\n",
              "      quickchartButtonEl.classList.add('colab-df-spinner');\n",
              "      try {\n",
              "        const charts = await google.colab.kernel.invokeFunction(\n",
              "            'suggestCharts', [key], {});\n",
              "      } catch (error) {\n",
              "        console.error('Error during call to suggestCharts:', error);\n",
              "      }\n",
              "      quickchartButtonEl.classList.remove('colab-df-spinner');\n",
              "      quickchartButtonEl.classList.add('colab-df-quickchart-complete');\n",
              "    }\n",
              "    (() => {\n",
              "      let quickchartButtonEl =\n",
              "        document.querySelector('#df-5f50a286-071d-4182-8b98-480293a2090c button');\n",
              "      quickchartButtonEl.style.display =\n",
              "        google.colab.kernel.accessAllowed ? 'block' : 'none';\n",
              "    })();\n",
              "  </script>\n",
              "</div>\n",
              "    </div>\n",
              "  </div>\n"
            ]
          },
          "metadata": {},
          "execution_count": 58
        }
      ]
    },
    {
      "cell_type": "code",
      "source": [
        "data = pd.concat([data_1, data_2, data_3, data_4, data_5], ignore_index=True)\n",
        "# data = pd.concat([data_1, data_2], ignore_index=True)\n",
        "data"
      ],
      "metadata": {
        "colab": {
          "base_uri": "https://localhost:8080/",
          "height": 423
        },
        "id": "3mSIojwwieKU",
        "outputId": "1d6e2362-3130-4329-e907-8364720b4525"
      },
      "execution_count": null,
      "outputs": [
        {
          "output_type": "execute_result",
          "data": {
            "text/plain": [
              "                                                  Text     label\n",
              "0    mastoto, sorry, i'm from a village far from th...  Positive\n",
              "1    fahri hamzah flicks ahy speak for himself demo...  Positive\n",
              "2    admitting that he is ready to debate, ali refu...  Positive\n",
              "3            o allah, make mr anies baswedan president  Negative\n",
              "4                     come on, let's get together, bro  Negative\n",
              "..                                                 ...       ...\n",
              "495                prabowo said about his rival jokowi  Negative\n",
              "496  mr gangar accompanied mr president accompanied...  Negative\n",
              "497  smrc called pak prabowo the most well-known pr...  Positive\n",
              "498  it is known that the lsj survey institute rele...  Negative\n",
              "499  prabowo repro volunteers say they will guard p...  Negative\n",
              "\n",
              "[500 rows x 2 columns]"
            ],
            "text/html": [
              "\n",
              "  <div id=\"df-4bb86624-7c6e-4c4a-9ed7-ab1ee09f72dd\" class=\"colab-df-container\">\n",
              "    <div>\n",
              "<style scoped>\n",
              "    .dataframe tbody tr th:only-of-type {\n",
              "        vertical-align: middle;\n",
              "    }\n",
              "\n",
              "    .dataframe tbody tr th {\n",
              "        vertical-align: top;\n",
              "    }\n",
              "\n",
              "    .dataframe thead th {\n",
              "        text-align: right;\n",
              "    }\n",
              "</style>\n",
              "<table border=\"1\" class=\"dataframe\">\n",
              "  <thead>\n",
              "    <tr style=\"text-align: right;\">\n",
              "      <th></th>\n",
              "      <th>Text</th>\n",
              "      <th>label</th>\n",
              "    </tr>\n",
              "  </thead>\n",
              "  <tbody>\n",
              "    <tr>\n",
              "      <th>0</th>\n",
              "      <td>mastoto, sorry, i'm from a village far from th...</td>\n",
              "      <td>Positive</td>\n",
              "    </tr>\n",
              "    <tr>\n",
              "      <th>1</th>\n",
              "      <td>fahri hamzah flicks ahy speak for himself demo...</td>\n",
              "      <td>Positive</td>\n",
              "    </tr>\n",
              "    <tr>\n",
              "      <th>2</th>\n",
              "      <td>admitting that he is ready to debate, ali refu...</td>\n",
              "      <td>Positive</td>\n",
              "    </tr>\n",
              "    <tr>\n",
              "      <th>3</th>\n",
              "      <td>o allah, make mr anies baswedan president</td>\n",
              "      <td>Negative</td>\n",
              "    </tr>\n",
              "    <tr>\n",
              "      <th>4</th>\n",
              "      <td>come on, let's get together, bro</td>\n",
              "      <td>Negative</td>\n",
              "    </tr>\n",
              "    <tr>\n",
              "      <th>...</th>\n",
              "      <td>...</td>\n",
              "      <td>...</td>\n",
              "    </tr>\n",
              "    <tr>\n",
              "      <th>495</th>\n",
              "      <td>prabowo said about his rival jokowi</td>\n",
              "      <td>Negative</td>\n",
              "    </tr>\n",
              "    <tr>\n",
              "      <th>496</th>\n",
              "      <td>mr gangar accompanied mr president accompanied...</td>\n",
              "      <td>Negative</td>\n",
              "    </tr>\n",
              "    <tr>\n",
              "      <th>497</th>\n",
              "      <td>smrc called pak prabowo the most well-known pr...</td>\n",
              "      <td>Positive</td>\n",
              "    </tr>\n",
              "    <tr>\n",
              "      <th>498</th>\n",
              "      <td>it is known that the lsj survey institute rele...</td>\n",
              "      <td>Negative</td>\n",
              "    </tr>\n",
              "    <tr>\n",
              "      <th>499</th>\n",
              "      <td>prabowo repro volunteers say they will guard p...</td>\n",
              "      <td>Negative</td>\n",
              "    </tr>\n",
              "  </tbody>\n",
              "</table>\n",
              "<p>500 rows × 2 columns</p>\n",
              "</div>\n",
              "    <div class=\"colab-df-buttons\">\n",
              "\n",
              "  <div class=\"colab-df-container\">\n",
              "    <button class=\"colab-df-convert\" onclick=\"convertToInteractive('df-4bb86624-7c6e-4c4a-9ed7-ab1ee09f72dd')\"\n",
              "            title=\"Convert this dataframe to an interactive table.\"\n",
              "            style=\"display:none;\">\n",
              "\n",
              "  <svg xmlns=\"http://www.w3.org/2000/svg\" height=\"24px\" viewBox=\"0 -960 960 960\">\n",
              "    <path d=\"M120-120v-720h720v720H120Zm60-500h600v-160H180v160Zm220 220h160v-160H400v160Zm0 220h160v-160H400v160ZM180-400h160v-160H180v160Zm440 0h160v-160H620v160ZM180-180h160v-160H180v160Zm440 0h160v-160H620v160Z\"/>\n",
              "  </svg>\n",
              "    </button>\n",
              "\n",
              "  <style>\n",
              "    .colab-df-container {\n",
              "      display:flex;\n",
              "      gap: 12px;\n",
              "    }\n",
              "\n",
              "    .colab-df-convert {\n",
              "      background-color: #E8F0FE;\n",
              "      border: none;\n",
              "      border-radius: 50%;\n",
              "      cursor: pointer;\n",
              "      display: none;\n",
              "      fill: #1967D2;\n",
              "      height: 32px;\n",
              "      padding: 0 0 0 0;\n",
              "      width: 32px;\n",
              "    }\n",
              "\n",
              "    .colab-df-convert:hover {\n",
              "      background-color: #E2EBFA;\n",
              "      box-shadow: 0px 1px 2px rgba(60, 64, 67, 0.3), 0px 1px 3px 1px rgba(60, 64, 67, 0.15);\n",
              "      fill: #174EA6;\n",
              "    }\n",
              "\n",
              "    .colab-df-buttons div {\n",
              "      margin-bottom: 4px;\n",
              "    }\n",
              "\n",
              "    [theme=dark] .colab-df-convert {\n",
              "      background-color: #3B4455;\n",
              "      fill: #D2E3FC;\n",
              "    }\n",
              "\n",
              "    [theme=dark] .colab-df-convert:hover {\n",
              "      background-color: #434B5C;\n",
              "      box-shadow: 0px 1px 3px 1px rgba(0, 0, 0, 0.15);\n",
              "      filter: drop-shadow(0px 1px 2px rgba(0, 0, 0, 0.3));\n",
              "      fill: #FFFFFF;\n",
              "    }\n",
              "  </style>\n",
              "\n",
              "    <script>\n",
              "      const buttonEl =\n",
              "        document.querySelector('#df-4bb86624-7c6e-4c4a-9ed7-ab1ee09f72dd button.colab-df-convert');\n",
              "      buttonEl.style.display =\n",
              "        google.colab.kernel.accessAllowed ? 'block' : 'none';\n",
              "\n",
              "      async function convertToInteractive(key) {\n",
              "        const element = document.querySelector('#df-4bb86624-7c6e-4c4a-9ed7-ab1ee09f72dd');\n",
              "        const dataTable =\n",
              "          await google.colab.kernel.invokeFunction('convertToInteractive',\n",
              "                                                    [key], {});\n",
              "        if (!dataTable) return;\n",
              "\n",
              "        const docLinkHtml = 'Like what you see? Visit the ' +\n",
              "          '<a target=\"_blank\" href=https://colab.research.google.com/notebooks/data_table.ipynb>data table notebook</a>'\n",
              "          + ' to learn more about interactive tables.';\n",
              "        element.innerHTML = '';\n",
              "        dataTable['output_type'] = 'display_data';\n",
              "        await google.colab.output.renderOutput(dataTable, element);\n",
              "        const docLink = document.createElement('div');\n",
              "        docLink.innerHTML = docLinkHtml;\n",
              "        element.appendChild(docLink);\n",
              "      }\n",
              "    </script>\n",
              "  </div>\n",
              "\n",
              "\n",
              "<div id=\"df-ecec039a-f062-420c-a8a8-b5c44d4b0930\">\n",
              "  <button class=\"colab-df-quickchart\" onclick=\"quickchart('df-ecec039a-f062-420c-a8a8-b5c44d4b0930')\"\n",
              "            title=\"Suggest charts\"\n",
              "            style=\"display:none;\">\n",
              "\n",
              "<svg xmlns=\"http://www.w3.org/2000/svg\" height=\"24px\"viewBox=\"0 0 24 24\"\n",
              "     width=\"24px\">\n",
              "    <g>\n",
              "        <path d=\"M19 3H5c-1.1 0-2 .9-2 2v14c0 1.1.9 2 2 2h14c1.1 0 2-.9 2-2V5c0-1.1-.9-2-2-2zM9 17H7v-7h2v7zm4 0h-2V7h2v10zm4 0h-2v-4h2v4z\"/>\n",
              "    </g>\n",
              "</svg>\n",
              "  </button>\n",
              "\n",
              "<style>\n",
              "  .colab-df-quickchart {\n",
              "      --bg-color: #E8F0FE;\n",
              "      --fill-color: #1967D2;\n",
              "      --hover-bg-color: #E2EBFA;\n",
              "      --hover-fill-color: #174EA6;\n",
              "      --disabled-fill-color: #AAA;\n",
              "      --disabled-bg-color: #DDD;\n",
              "  }\n",
              "\n",
              "  [theme=dark] .colab-df-quickchart {\n",
              "      --bg-color: #3B4455;\n",
              "      --fill-color: #D2E3FC;\n",
              "      --hover-bg-color: #434B5C;\n",
              "      --hover-fill-color: #FFFFFF;\n",
              "      --disabled-bg-color: #3B4455;\n",
              "      --disabled-fill-color: #666;\n",
              "  }\n",
              "\n",
              "  .colab-df-quickchart {\n",
              "    background-color: var(--bg-color);\n",
              "    border: none;\n",
              "    border-radius: 50%;\n",
              "    cursor: pointer;\n",
              "    display: none;\n",
              "    fill: var(--fill-color);\n",
              "    height: 32px;\n",
              "    padding: 0;\n",
              "    width: 32px;\n",
              "  }\n",
              "\n",
              "  .colab-df-quickchart:hover {\n",
              "    background-color: var(--hover-bg-color);\n",
              "    box-shadow: 0 1px 2px rgba(60, 64, 67, 0.3), 0 1px 3px 1px rgba(60, 64, 67, 0.15);\n",
              "    fill: var(--button-hover-fill-color);\n",
              "  }\n",
              "\n",
              "  .colab-df-quickchart-complete:disabled,\n",
              "  .colab-df-quickchart-complete:disabled:hover {\n",
              "    background-color: var(--disabled-bg-color);\n",
              "    fill: var(--disabled-fill-color);\n",
              "    box-shadow: none;\n",
              "  }\n",
              "\n",
              "  .colab-df-spinner {\n",
              "    border: 2px solid var(--fill-color);\n",
              "    border-color: transparent;\n",
              "    border-bottom-color: var(--fill-color);\n",
              "    animation:\n",
              "      spin 1s steps(1) infinite;\n",
              "  }\n",
              "\n",
              "  @keyframes spin {\n",
              "    0% {\n",
              "      border-color: transparent;\n",
              "      border-bottom-color: var(--fill-color);\n",
              "      border-left-color: var(--fill-color);\n",
              "    }\n",
              "    20% {\n",
              "      border-color: transparent;\n",
              "      border-left-color: var(--fill-color);\n",
              "      border-top-color: var(--fill-color);\n",
              "    }\n",
              "    30% {\n",
              "      border-color: transparent;\n",
              "      border-left-color: var(--fill-color);\n",
              "      border-top-color: var(--fill-color);\n",
              "      border-right-color: var(--fill-color);\n",
              "    }\n",
              "    40% {\n",
              "      border-color: transparent;\n",
              "      border-right-color: var(--fill-color);\n",
              "      border-top-color: var(--fill-color);\n",
              "    }\n",
              "    60% {\n",
              "      border-color: transparent;\n",
              "      border-right-color: var(--fill-color);\n",
              "    }\n",
              "    80% {\n",
              "      border-color: transparent;\n",
              "      border-right-color: var(--fill-color);\n",
              "      border-bottom-color: var(--fill-color);\n",
              "    }\n",
              "    90% {\n",
              "      border-color: transparent;\n",
              "      border-bottom-color: var(--fill-color);\n",
              "    }\n",
              "  }\n",
              "</style>\n",
              "\n",
              "  <script>\n",
              "    async function quickchart(key) {\n",
              "      const quickchartButtonEl =\n",
              "        document.querySelector('#' + key + ' button');\n",
              "      quickchartButtonEl.disabled = true;  // To prevent multiple clicks.\n",
              "      quickchartButtonEl.classList.add('colab-df-spinner');\n",
              "      try {\n",
              "        const charts = await google.colab.kernel.invokeFunction(\n",
              "            'suggestCharts', [key], {});\n",
              "      } catch (error) {\n",
              "        console.error('Error during call to suggestCharts:', error);\n",
              "      }\n",
              "      quickchartButtonEl.classList.remove('colab-df-spinner');\n",
              "      quickchartButtonEl.classList.add('colab-df-quickchart-complete');\n",
              "    }\n",
              "    (() => {\n",
              "      let quickchartButtonEl =\n",
              "        document.querySelector('#df-ecec039a-f062-420c-a8a8-b5c44d4b0930 button');\n",
              "      quickchartButtonEl.style.display =\n",
              "        google.colab.kernel.accessAllowed ? 'block' : 'none';\n",
              "    })();\n",
              "  </script>\n",
              "</div>\n",
              "    </div>\n",
              "  </div>\n"
            ]
          },
          "metadata": {},
          "execution_count": 29
        }
      ]
    },
    {
      "cell_type": "code",
      "source": [
        "data.label.value_counts()"
      ],
      "metadata": {
        "colab": {
          "base_uri": "https://localhost:8080/"
        },
        "id": "niue8JGtoV5z",
        "outputId": "b02e822d-60c6-4ecf-ad7b-713ca5edc585"
      },
      "execution_count": null,
      "outputs": [
        {
          "output_type": "execute_result",
          "data": {
            "text/plain": [
              "Positive    252\n",
              "Negative    248\n",
              "Name: label, dtype: int64"
            ]
          },
          "metadata": {},
          "execution_count": 8
        }
      ]
    },
    {
      "cell_type": "markdown",
      "metadata": {
        "id": "rbHUTw609ziv"
      },
      "source": [
        "## Explorasi Data"
      ]
    },
    {
      "cell_type": "code",
      "metadata": {
        "id": "URRkQxRK-S6y",
        "outputId": "9fc2d20c-82aa-421f-bd18-42e3515c92ad",
        "colab": {
          "base_uri": "https://localhost:8080/",
          "height": 544
        }
      },
      "source": [
        "# Cek jumlah review positive dan negative\n",
        "plt.figure(figsize=(12,5))\n",
        "sns.countplot(x='label', data=data)\n",
        "plt.title('Distribusi Class Sentiment Tweet Data', fontsize=16)\n",
        "plt.ylabel('Class Counts', fontsize=16)\n",
        "plt.xlabel('Class Label', fontsize=16)\n",
        "plt.xticks(rotation='vertical');"
      ],
      "execution_count": null,
      "outputs": [
        {
          "output_type": "display_data",
          "data": {
            "text/plain": [
              "<Figure size 1200x500 with 1 Axes>"
            ],
            "image/png": "[encoded data removed]"
          },
          "metadata": {}
        }
      ]
    },
    {
      "cell_type": "markdown",
      "metadata": {
        "id": "HD0ZzsMLAUZd"
      },
      "source": [
        "## Pemrosesan Data"
      ]
    },
    {
      "cell_type": "code",
      "source": [
        "data_train"
      ],
      "metadata": {
        "colab": {
          "base_uri": "https://localhost:8080/",
          "height": 423
        },
        "id": "f1R4D8p-ps7_",
        "outputId": "6fa3c147-4c61-41f4-d2e8-f13cbb1facc7"
      },
      "execution_count": null,
      "outputs": [
        {
          "output_type": "execute_result",
          "data": {
            "text/plain": [
              "                                             sentence   overall\n",
              "0   jokowi coalition heats up cabinet reshuffle is...  Negative\n",
              "1    id ganesha for poor people, the solution is t...  Negative\n",
              "2    hush, what if anies baswed becomes president ...  Negative\n",
              "3                           great anies for president  Positive\n",
              "4    hopefully the people' s suffering will soon e...  Positive\n",
              "..                                                ...       ...\n",
              "95  sentenced to years and months of bribing unila...  Negative\n",
              "96                            anies for president bro  Positive\n",
              "97  i hope that mr. anies baswedan is destined to ...  Positive\n",
              "98   anies remains president of the republic of in...  Positive\n",
              "99  baroque seconds of the poso butcher dies after...  Negative\n",
              "\n",
              "[100 rows x 2 columns]"
            ],
            "text/html": [
              "\n",
              "  <div id=\"df-bf6d2aca-89bc-4a15-a1c7-780e7436fb03\" class=\"colab-df-container\">\n",
              "    <div>\n",
              "<style scoped>\n",
              "    .dataframe tbody tr th:only-of-type {\n",
              "        vertical-align: middle;\n",
              "    }\n",
              "\n",
              "    .dataframe tbody tr th {\n",
              "        vertical-align: top;\n",
              "    }\n",
              "\n",
              "    .dataframe thead th {\n",
              "        text-align: right;\n",
              "    }\n",
              "</style>\n",
              "<table border=\"1\" class=\"dataframe\">\n",
              "  <thead>\n",
              "    <tr style=\"text-align: right;\">\n",
              "      <th></th>\n",
              "      <th>sentence</th>\n",
              "      <th>overall</th>\n",
              "    </tr>\n",
              "  </thead>\n",
              "  <tbody>\n",
              "    <tr>\n",
              "      <th>0</th>\n",
              "      <td>jokowi coalition heats up cabinet reshuffle is...</td>\n",
              "      <td>Negative</td>\n",
              "    </tr>\n",
              "    <tr>\n",
              "      <th>1</th>\n",
              "      <td>id ganesha for poor people, the solution is t...</td>\n",
              "      <td>Negative</td>\n",
              "    </tr>\n",
              "    <tr>\n",
              "      <th>2</th>\n",
              "      <td>hush, what if anies baswed becomes president ...</td>\n",
              "      <td>Negative</td>\n",
              "    </tr>\n",
              "    <tr>\n",
              "      <th>3</th>\n",
              "      <td>great anies for president</td>\n",
              "      <td>Positive</td>\n",
              "    </tr>\n",
              "    <tr>\n",
              "      <th>4</th>\n",
              "      <td>hopefully the people' s suffering will soon e...</td>\n",
              "      <td>Positive</td>\n",
              "    </tr>\n",
              "    <tr>\n",
              "      <th>...</th>\n",
              "      <td>...</td>\n",
              "      <td>...</td>\n",
              "    </tr>\n",
              "    <tr>\n",
              "      <th>95</th>\n",
              "      <td>sentenced to years and months of bribing unila...</td>\n",
              "      <td>Negative</td>\n",
              "    </tr>\n",
              "    <tr>\n",
              "      <th>96</th>\n",
              "      <td>anies for president bro</td>\n",
              "      <td>Positive</td>\n",
              "    </tr>\n",
              "    <tr>\n",
              "      <th>97</th>\n",
              "      <td>i hope that mr. anies baswedan is destined to ...</td>\n",
              "      <td>Positive</td>\n",
              "    </tr>\n",
              "    <tr>\n",
              "      <th>98</th>\n",
              "      <td>anies remains president of the republic of in...</td>\n",
              "      <td>Positive</td>\n",
              "    </tr>\n",
              "    <tr>\n",
              "      <th>99</th>\n",
              "      <td>baroque seconds of the poso butcher dies after...</td>\n",
              "      <td>Negative</td>\n",
              "    </tr>\n",
              "  </tbody>\n",
              "</table>\n",
              "<p>100 rows × 2 columns</p>\n",
              "</div>\n",
              "    <div class=\"colab-df-buttons\">\n",
              "\n",
              "  <div class=\"colab-df-container\">\n",
              "    <button class=\"colab-df-convert\" onclick=\"convertToInteractive('df-bf6d2aca-89bc-4a15-a1c7-780e7436fb03')\"\n",
              "            title=\"Convert this dataframe to an interactive table.\"\n",
              "            style=\"display:none;\">\n",
              "\n",
              "  <svg xmlns=\"http://www.w3.org/2000/svg\" height=\"24px\" viewBox=\"0 -960 960 960\">\n",
              "    <path d=\"M120-120v-720h720v720H120Zm60-500h600v-160H180v160Zm220 220h160v-160H400v160Zm0 220h160v-160H400v160ZM180-400h160v-160H180v160Zm440 0h160v-160H620v160ZM180-180h160v-160H180v160Zm440 0h160v-160H620v160Z\"/>\n",
              "  </svg>\n",
              "    </button>\n",
              "\n",
              "  <style>\n",
              "    .colab-df-container {\n",
              "      display:flex;\n",
              "      gap: 12px;\n",
              "    }\n",
              "\n",
              "    .colab-df-convert {\n",
              "      background-color: #E8F0FE;\n",
              "      border: none;\n",
              "      border-radius: 50%;\n",
              "      cursor: pointer;\n",
              "      display: none;\n",
              "      fill: #1967D2;\n",
              "      height: 32px;\n",
              "      padding: 0 0 0 0;\n",
              "      width: 32px;\n",
              "    }\n",
              "\n",
              "    .colab-df-convert:hover {\n",
              "      background-color: #E2EBFA;\n",
              "      box-shadow: 0px 1px 2px rgba(60, 64, 67, 0.3), 0px 1px 3px 1px rgba(60, 64, 67, 0.15);\n",
              "      fill: #174EA6;\n",
              "    }\n",
              "\n",
              "    .colab-df-buttons div {\n",
              "      margin-bottom: 4px;\n",
              "    }\n",
              "\n",
              "    [theme=dark] .colab-df-convert {\n",
              "      background-color: #3B4455;\n",
              "      fill: #D2E3FC;\n",
              "    }\n",
              "\n",
              "    [theme=dark] .colab-df-convert:hover {\n",
              "      background-color: #434B5C;\n",
              "      box-shadow: 0px 1px 3px 1px rgba(0, 0, 0, 0.15);\n",
              "      filter: drop-shadow(0px 1px 2px rgba(0, 0, 0, 0.3));\n",
              "      fill: #FFFFFF;\n",
              "    }\n",
              "  </style>\n",
              "\n",
              "    <script>\n",
              "      const buttonEl =\n",
              "        document.querySelector('#df-bf6d2aca-89bc-4a15-a1c7-780e7436fb03 button.colab-df-convert');\n",
              "      buttonEl.style.display =\n",
              "        google.colab.kernel.accessAllowed ? 'block' : 'none';\n",
              "\n",
              "      async function convertToInteractive(key) {\n",
              "        const element = document.querySelector('#df-bf6d2aca-89bc-4a15-a1c7-780e7436fb03');\n",
              "        const dataTable =\n",
              "          await google.colab.kernel.invokeFunction('convertToInteractive',\n",
              "                                                    [key], {});\n",
              "        if (!dataTable) return;\n",
              "\n",
              "        const docLinkHtml = 'Like what you see? Visit the ' +\n",
              "          '<a target=\"_blank\" href=https://colab.research.google.com/notebooks/data_table.ipynb>data table notebook</a>'\n",
              "          + ' to learn more about interactive tables.';\n",
              "        element.innerHTML = '';\n",
              "        dataTable['output_type'] = 'display_data';\n",
              "        await google.colab.output.renderOutput(dataTable, element);\n",
              "        const docLink = document.createElement('div');\n",
              "        docLink.innerHTML = docLinkHtml;\n",
              "        element.appendChild(docLink);\n",
              "      }\n",
              "    </script>\n",
              "  </div>\n",
              "\n",
              "\n",
              "<div id=\"df-14e9e38f-904f-4d60-9f61-e142b9baaa46\">\n",
              "  <button class=\"colab-df-quickchart\" onclick=\"quickchart('df-14e9e38f-904f-4d60-9f61-e142b9baaa46')\"\n",
              "            title=\"Suggest charts\"\n",
              "            style=\"display:none;\">\n",
              "\n",
              "<svg xmlns=\"http://www.w3.org/2000/svg\" height=\"24px\"viewBox=\"0 0 24 24\"\n",
              "     width=\"24px\">\n",
              "    <g>\n",
              "        <path d=\"M19 3H5c-1.1 0-2 .9-2 2v14c0 1.1.9 2 2 2h14c1.1 0 2-.9 2-2V5c0-1.1-.9-2-2-2zM9 17H7v-7h2v7zm4 0h-2V7h2v10zm4 0h-2v-4h2v4z\"/>\n",
              "    </g>\n",
              "</svg>\n",
              "  </button>\n",
              "\n",
              "<style>\n",
              "  .colab-df-quickchart {\n",
              "      --bg-color: #E8F0FE;\n",
              "      --fill-color: #1967D2;\n",
              "      --hover-bg-color: #E2EBFA;\n",
              "      --hover-fill-color: #174EA6;\n",
              "      --disabled-fill-color: #AAA;\n",
              "      --disabled-bg-color: #DDD;\n",
              "  }\n",
              "\n",
              "  [theme=dark] .colab-df-quickchart {\n",
              "      --bg-color: #3B4455;\n",
              "      --fill-color: #D2E3FC;\n",
              "      --hover-bg-color: #434B5C;\n",
              "      --hover-fill-color: #FFFFFF;\n",
              "      --disabled-bg-color: #3B4455;\n",
              "      --disabled-fill-color: #666;\n",
              "  }\n",
              "\n",
              "  .colab-df-quickchart {\n",
              "    background-color: var(--bg-color);\n",
              "    border: none;\n",
              "    border-radius: 50%;\n",
              "    cursor: pointer;\n",
              "    display: none;\n",
              "    fill: var(--fill-color);\n",
              "    height: 32px;\n",
              "    padding: 0;\n",
              "    width: 32px;\n",
              "  }\n",
              "\n",
              "  .colab-df-quickchart:hover {\n",
              "    background-color: var(--hover-bg-color);\n",
              "    box-shadow: 0 1px 2px rgba(60, 64, 67, 0.3), 0 1px 3px 1px rgba(60, 64, 67, 0.15);\n",
              "    fill: var(--button-hover-fill-color);\n",
              "  }\n",
              "\n",
              "  .colab-df-quickchart-complete:disabled,\n",
              "  .colab-df-quickchart-complete:disabled:hover {\n",
              "    background-color: var(--disabled-bg-color);\n",
              "    fill: var(--disabled-fill-color);\n",
              "    box-shadow: none;\n",
              "  }\n",
              "\n",
              "  .colab-df-spinner {\n",
              "    border: 2px solid var(--fill-color);\n",
              "    border-color: transparent;\n",
              "    border-bottom-color: var(--fill-color);\n",
              "    animation:\n",
              "      spin 1s steps(1) infinite;\n",
              "  }\n",
              "\n",
              "  @keyframes spin {\n",
              "    0% {\n",
              "      border-color: transparent;\n",
              "      border-bottom-color: var(--fill-color);\n",
              "      border-left-color: var(--fill-color);\n",
              "    }\n",
              "    20% {\n",
              "      border-color: transparent;\n",
              "      border-left-color: var(--fill-color);\n",
              "      border-top-color: var(--fill-color);\n",
              "    }\n",
              "    30% {\n",
              "      border-color: transparent;\n",
              "      border-left-color: var(--fill-color);\n",
              "      border-top-color: var(--fill-color);\n",
              "      border-right-color: var(--fill-color);\n",
              "    }\n",
              "    40% {\n",
              "      border-color: transparent;\n",
              "      border-right-color: var(--fill-color);\n",
              "      border-top-color: var(--fill-color);\n",
              "    }\n",
              "    60% {\n",
              "      border-color: transparent;\n",
              "      border-right-color: var(--fill-color);\n",
              "    }\n",
              "    80% {\n",
              "      border-color: transparent;\n",
              "      border-right-color: var(--fill-color);\n",
              "      border-bottom-color: var(--fill-color);\n",
              "    }\n",
              "    90% {\n",
              "      border-color: transparent;\n",
              "      border-bottom-color: var(--fill-color);\n",
              "    }\n",
              "  }\n",
              "</style>\n",
              "\n",
              "  <script>\n",
              "    async function quickchart(key) {\n",
              "      const quickchartButtonEl =\n",
              "        document.querySelector('#' + key + ' button');\n",
              "      quickchartButtonEl.disabled = true;  // To prevent multiple clicks.\n",
              "      quickchartButtonEl.classList.add('colab-df-spinner');\n",
              "      try {\n",
              "        const charts = await google.colab.kernel.invokeFunction(\n",
              "            'suggestCharts', [key], {});\n",
              "      } catch (error) {\n",
              "        console.error('Error during call to suggestCharts:', error);\n",
              "      }\n",
              "      quickchartButtonEl.classList.remove('colab-df-spinner');\n",
              "      quickchartButtonEl.classList.add('colab-df-quickchart-complete');\n",
              "    }\n",
              "    (() => {\n",
              "      let quickchartButtonEl =\n",
              "        document.querySelector('#df-14e9e38f-904f-4d60-9f61-e142b9baaa46 button');\n",
              "      quickchartButtonEl.style.display =\n",
              "        google.colab.kernel.accessAllowed ? 'block' : 'none';\n",
              "    })();\n",
              "  </script>\n",
              "</div>\n",
              "    </div>\n",
              "  </div>\n"
            ]
          },
          "metadata": {},
          "execution_count": 7
        }
      ]
    },
    {
      "cell_type": "code",
      "metadata": {
        "id": "Wy2RNLgs-1dB",
        "outputId": "2611a825-2f68-4280-865b-333d95634bbb",
        "colab": {
          "base_uri": "https://localhost:8080/"
        }
      },
      "source": [
        "from sklearn.preprocessing import LabelEncoder\n",
        "\n",
        "X = data.iloc[:, 0].values\n",
        "le = LabelEncoder()\n",
        "le.fit([\"Positive\", \"Negative\"])\n",
        "\n",
        "print(list(le.classes_))\n",
        "y = le.transform(data.iloc[:, 1].values)\n",
        "\n",
        "#y = tweets.iloc[:, 1].values\n",
        "print(X.shape)\n",
        "print(X[0])\n",
        "print(y.shape)\n",
        "print(y[0])"
      ],
      "execution_count": null,
      "outputs": [
        {
          "output_type": "stream",
          "name": "stdout",
          "text": [
            "['Negative', 'Positive']\n",
            "(500,)\n",
            "mastoto, sorry, i'm from a village far from the city, but my village residents and i have agreed to support mr. anies baswedan to become president of the republic of indonesia.\n",
            "(500,)\n",
            "1\n"
          ]
        }
      ]
    },
    {
      "cell_type": "code",
      "metadata": {
        "id": "iB09_ADdAoIZ"
      },
      "source": [
        "# Membuat empty List\n",
        "processed_tweets = []\n",
        "\n",
        "for tweet in range(0, len(X)):\n",
        "    # Hapus semua special characters\n",
        "    processed_tweet = re.sub(r'\\W', ' ', str(X[tweet]))\n",
        "\n",
        "    # Ubah menjadi Lowercase\n",
        "    processed_tweet = processed_tweet.lower()\n",
        "\n",
        "    # Masukkan ke list kosong yang telah dibuat sebelumnya\n",
        "    processed_tweets.append(processed_tweet)"
      ],
      "execution_count": null,
      "outputs": []
    },
    {
      "cell_type": "code",
      "metadata": {
        "id": "VCpteX5ll1VL",
        "outputId": "7a4c6723-e686-41e4-d31a-4a811bc29430",
        "colab": {
          "base_uri": "https://localhost:8080/"
        }
      },
      "source": [
        "# Cek sebelum cleaning data\n",
        "print(str(X[:5]))\n",
        "print()\n",
        "\n",
        "# Cek setelah cleaning data\n",
        "processed_tweets[:5]"
      ],
      "execution_count": null,
      "outputs": [
        {
          "output_type": "stream",
          "name": "stdout",
          "text": [
            "[\"mastoto, sorry, i'm from a village far from the city, but my village residents and i have agreed to support mr. anies baswedan to become president of the republic of indonesia.\"\n",
            " 'fahri hamzah flicks ahy speak for himself democratic politicians put their bodies together for debate ketum we are ready jokowi pharaoh village head age minions kevin kls lisa shines in riyadh'\n",
            " 'admitting that he is ready to debate, ali refuses, mr. mahfud knows that the debate with me has already stumbled.'\n",
            " 'o allah, make mr anies baswedan president'\n",
            " \"come on, let's get together, bro\"]\n",
            "\n"
          ]
        },
        {
          "output_type": "execute_result",
          "data": {
            "text/plain": [
              "['mastoto  sorry  i m from a village far from the city  but my village residents and i have agreed to support mr  anies baswedan to become president of the republic of indonesia ',\n",
              " 'fahri hamzah flicks ahy speak for himself democratic politicians put their bodies together for debate ketum we are ready jokowi pharaoh village head age minions kevin kls lisa shines in riyadh',\n",
              " 'admitting that he is ready to debate  ali refuses  mr  mahfud knows that the debate with me has already stumbled ',\n",
              " 'o allah  make mr anies baswedan president',\n",
              " 'come on  let s get together  bro']"
            ]
          },
          "metadata": {},
          "execution_count": 9
        }
      ]
    },
    {
      "cell_type": "markdown",
      "metadata": {
        "id": "UzIas1ktDJ5d"
      },
      "source": [
        "## Skema TF-IDF untuk Pembuatan Feature Numeric"
      ]
    },
    {
      "cell_type": "code",
      "metadata": {
        "id": "e8YwLIfgApr8"
      },
      "source": [
        "from sklearn.feature_extraction.text import TfidfVectorizer\n",
        "tfidfconverter = TfidfVectorizer(max_features=2000, min_df=5, max_df=0.7, stop_words=stopwords.words('english'),ngram_range=(1,3))\n",
        "X1 = tfidfconverter.fit_transform(processed_tweets).toarray()"
      ],
      "execution_count": null,
      "outputs": []
    },
    {
      "cell_type": "markdown",
      "metadata": {
        "id": "pz3iJizfGOZB"
      },
      "source": [
        "## Membagi Data ke Training dan Test Set"
      ]
    },
    {
      "cell_type": "code",
      "metadata": {
        "id": "u4Izr0lzEGgf"
      },
      "source": [
        "from sklearn.model_selection import train_test_split\n",
        "X_train, X_test, y_train, y_test = train_test_split(X1, y, test_size=0.3, random_state=0)"
      ],
      "execution_count": null,
      "outputs": []
    },
    {
      "cell_type": "markdown",
      "metadata": {
        "id": "272NNoFNGgCp"
      },
      "source": [
        "## Pelatihan dan Evaluasi dari Model Klasifikasi Teks"
      ]
    },
    {
      "cell_type": "code",
      "metadata": {
        "id": "7ZwFF6ZXGfBj"
      },
      "source": [
        "import time\n",
        "\n",
        "from sklearn.ensemble import RandomForestClassifier\n",
        "\n",
        "text_classifier_en = RandomForestClassifier(n_estimators=100, random_state=0)\n",
        "t0_en = time.time()\n",
        "text_classifier_en.fit(X_train, y_train)\n",
        "t1_en = time.time()"
      ],
      "execution_count": null,
      "outputs": []
    },
    {
      "cell_type": "code",
      "metadata": {
        "id": "jizQpxeuJF_r"
      },
      "source": [
        "from sklearn.naive_bayes import GaussianNB\n",
        "text_classifier_nb = GaussianNB()\n",
        "t0_nb = time.time()\n",
        "text_classifier_nb.fit(X_train, y_train)\n",
        "t1_nb = time.time()"
      ],
      "execution_count": null,
      "outputs": []
    },
    {
      "cell_type": "code",
      "metadata": {
        "id": "plO0fYm4zsyL"
      },
      "source": [
        "from sklearn.svm import SVC\n",
        "text_classifier_svm = SVC(kernel='linear')\n",
        "t0_svm = time.time()\n",
        "text_classifier_svm.fit(X_train, y_train)\n",
        "t1_svm = time.time()"
      ],
      "execution_count": null,
      "outputs": []
    },
    {
      "cell_type": "code",
      "metadata": {
        "id": "ulqqo7MEGwsp",
        "outputId": "196f28e9-2fe7-4477-d7bb-c070839741df",
        "colab": {
          "base_uri": "https://localhost:8080/"
        }
      },
      "source": [
        "predictions_en = text_classifier_en.predict(X_test)\n",
        "t2_en = time.time()\n",
        "time_linear_train_en = t1_en-t0_en\n",
        "time_linear_predict_en = t2_en-t1_en\n",
        "\n",
        "predictions_nb = text_classifier_nb.predict(X_test)\n",
        "t2_nb = time.time()\n",
        "time_linear_train_nb = t1_nb-t0_nb\n",
        "time_linear_predict_nb = t2_nb-t1_nb\n",
        "\n",
        "predictions_svm = text_classifier_svm.predict(X_test)\n",
        "t2_svm = time.time()\n",
        "time_linear_train_svm = t1_svm-t0_svm\n",
        "time_linear_predict_svm = t2_svm-t1_svm\n",
        "\n",
        "# results\n",
        "print(\"EN Training time: %fs; Prediction time: %fs\" % (time_linear_train_en, time_linear_predict_en))\n",
        "print(\"NB Training time: %fs; Prediction time: %fs\" % (time_linear_train_nb, time_linear_predict_nb))\n",
        "print(\"SVM Training time: %fs; Prediction time: %fs\" % (time_linear_train_svm, time_linear_predict_svm))"
      ],
      "execution_count": null,
      "outputs": [
        {
          "output_type": "stream",
          "name": "stdout",
          "text": [
            "EN Training time: 0.213556s; Prediction time: 6.504550s\n",
            "NB Training time: 0.004172s; Prediction time: 5.710889s\n",
            "SVM Training time: 0.020704s; Prediction time: 4.304333s\n"
          ]
        }
      ]
    },
    {
      "cell_type": "markdown",
      "metadata": {
        "id": "YYpFcLPgHlBI"
      },
      "source": [
        "## Results"
      ]
    },
    {
      "cell_type": "code",
      "metadata": {
        "id": "M6U6-y21-qpF",
        "outputId": "ca2f24cf-94b0-476f-cec9-680e9ab68016",
        "colab": {
          "base_uri": "https://localhost:8080/"
        }
      },
      "source": [
        "from sklearn.metrics import classification_report, confusion_matrix, accuracy_score, recall_score, precision_score, f1_score, roc_auc_score\n",
        "\n",
        "print(\"Random Forest\")\n",
        "print('Accuracy  = ', round(accuracy_score(y_test, predictions_en)*100,2),'%')\n",
        "print('Recall    = ', round(recall_score(y_test, predictions_en)*100,2),'%')\n",
        "print('Precision = ', round(precision_score(y_test, predictions_en)*100,2),'%')\n",
        "print('F1-Score  = ', round(f1_score(y_test, predictions_en)*100,2),'%')\n",
        "print('ROC AUC   = ', roc_auc_score(y_test, predictions_en))\n",
        "print(\"\")\n",
        "print(\"Naive Bayes\")\n",
        "print('Accuracy  = ', round(accuracy_score(y_test, predictions_nb)*100,2),'%')\n",
        "print('Recall    = ', round(recall_score(y_test, predictions_nb)*100,2),'%')\n",
        "print('Precision = ', round(precision_score(y_test, predictions_nb)*100,2),'%')\n",
        "print('F1-Score  = ', round(f1_score(y_test, predictions_nb)*100,2),'%')\n",
        "print('ROC AUC   = ', roc_auc_score(y_test, predictions_nb))\n",
        "print(\"\")\n",
        "print(\"Support Vector Machine\")\n",
        "print('Accuracy  = ', round(accuracy_score(y_test, predictions_svm)*100,2),'%')\n",
        "print('Recall    = ', round(recall_score(y_test, predictions_svm)*100,2),'%')\n",
        "print('Precision = ', round(precision_score(y_test, predictions_svm)*100,2),'%')\n",
        "print('F1-Score  = ', round(f1_score(y_test, predictions_svm)*100,2),'%')\n",
        "print('ROC AUC   = ', roc_auc_score(y_test, predictions_svm))\n",
        "print(\"\")\n",
        "\n",
        "print(\"Random Forest\")\n",
        "print(confusion_matrix(y_test,predictions_en))\n",
        "print(\"\")\n",
        "print(\"Naive Bayes\")\n",
        "print(confusion_matrix(y_test,predictions_nb))\n",
        "print(\"\")\n",
        "print(\"Support Vector Machine\")\n",
        "print(confusion_matrix(y_test,predictions_svm))\n",
        "print(\"\")\n",
        "\n",
        "print(\"Random Forest\")\n",
        "print(classification_report(y_test,predictions_en))\n",
        "print(\"\")\n",
        "print(\"Naive Bayes\")\n",
        "print(classification_report(y_test,predictions_nb))\n",
        "print(\"\")\n",
        "print(\"Support Vector Machine\")\n",
        "print(classification_report(y_test,predictions_svm))"
      ],
      "execution_count": null,
      "outputs": [
        {
          "output_type": "stream",
          "name": "stdout",
          "text": [
            "Random Forest\n",
            "Accuracy  =  74.67 %\n",
            "Recall    =  73.61 %\n",
            "Precision =  73.61 %\n",
            "F1-Score  =  73.61 %\n",
            "ROC AUC   =  0.7462606837606838\n",
            "\n",
            "Naive Bayes\n",
            "Accuracy  =  69.33 %\n",
            "Recall    =  70.83 %\n",
            "Precision =  67.11 %\n",
            "F1-Score  =  68.92 %\n",
            "ROC AUC   =  0.6939102564102565\n",
            "\n",
            "Support Vector Machine\n",
            "Accuracy  =  68.67 %\n",
            "Recall    =  69.44 %\n",
            "Precision =  66.67 %\n",
            "F1-Score  =  68.03 %\n",
            "ROC AUC   =  0.686965811965812\n",
            "\n",
            "Random Forest\n",
            "[[59 19]\n",
            " [19 53]]\n",
            "\n",
            "Naive Bayes\n",
            "[[53 25]\n",
            " [21 51]]\n",
            "\n",
            "Support Vector Machine\n",
            "[[53 25]\n",
            " [22 50]]\n",
            "\n",
            "Random Forest\n",
            "              precision    recall  f1-score   support\n",
            "\n",
            "           0       0.76      0.76      0.76        78\n",
            "           1       0.74      0.74      0.74        72\n",
            "\n",
            "    accuracy                           0.75       150\n",
            "   macro avg       0.75      0.75      0.75       150\n",
            "weighted avg       0.75      0.75      0.75       150\n",
            "\n",
            "\n",
            "Naive Bayes\n",
            "              precision    recall  f1-score   support\n",
            "\n",
            "           0       0.72      0.68      0.70        78\n",
            "           1       0.67      0.71      0.69        72\n",
            "\n",
            "    accuracy                           0.69       150\n",
            "   macro avg       0.69      0.69      0.69       150\n",
            "weighted avg       0.69      0.69      0.69       150\n",
            "\n",
            "\n",
            "Support Vector Machine\n",
            "              precision    recall  f1-score   support\n",
            "\n",
            "           0       0.71      0.68      0.69        78\n",
            "           1       0.67      0.69      0.68        72\n",
            "\n",
            "    accuracy                           0.69       150\n",
            "   macro avg       0.69      0.69      0.69       150\n",
            "weighted avg       0.69      0.69      0.69       150\n",
            "\n"
          ]
        }
      ]
    },
    {
      "cell_type": "code",
      "source": [
        "import numpy as np\n",
        "import pandas as pd\n",
        "from sklearn.metrics import confusion_matrix, ConfusionMatrixDisplay\n",
        "\n",
        "# Define the counts\n",
        "a = 39  # True Positives\n",
        "b = 12  # False Negatives\n",
        "c = 16  # False Positives\n",
        "d = 33  # True Negatives\n",
        "\n",
        "# Create the confusion matrix\n",
        "conf_matrix = np.array([[a, b], [c, d]])\n",
        "\n",
        "# Display the confusion matrix\n",
        "print(\"Confusion Matrix:\")\n",
        "print(conf_matrix)\n",
        "\n",
        "# If you want a more visually appealing display\n",
        "disp = ConfusionMatrixDisplay(conf_matrix, display_labels=['Positive', 'Negative'])\n",
        "disp.plot(cmap='Blues', values_format='d')\n",
        "plt.title(\"Confusion Matrix Random Forest\")\n",
        "plt.show()"
      ],
      "metadata": {
        "colab": {
          "base_uri": "https://localhost:8080/",
          "height": 524
        },
        "id": "3e8b8AorSUcI",
        "outputId": "5630d97e-89ba-4bdc-9a8f-30e42156670c"
      },
      "execution_count": null,
      "outputs": [
        {
          "output_type": "stream",
          "name": "stdout",
          "text": [
            "Confusion Matrix:\n",
            "[[39 12]\n",
            " [16 33]]\n"
          ]
        },
        {
          "output_type": "display_data",
          "data": {
            "text/plain": [
              "<Figure size 640x480 with 2 Axes>"
            ],
            "image/png": "[encoded data removed]"
          },
          "metadata": {}
        }
      ]
    },
    {
      "cell_type": "code",
      "source": [
        "import numpy as np\n",
        "import pandas as pd\n",
        "from sklearn.metrics import confusion_matrix, ConfusionMatrixDisplay\n",
        "\n",
        "# Define the counts\n",
        "a = 37  # True Positives\n",
        "b = 14  # False Negatives\n",
        "c = 16  # False Positives\n",
        "d = 33  # True Negatives\n",
        "\n",
        "# Create the confusion matrix\n",
        "conf_matrix = np.array([[a, b], [c, d]])\n",
        "\n",
        "# Display the confusion matrix\n",
        "print(\"Confusion Matrix:\")\n",
        "print(conf_matrix)\n",
        "\n",
        "# If you want a more visually appealing display\n",
        "disp = ConfusionMatrixDisplay(conf_matrix, display_labels=['Positive', 'Negative'])\n",
        "disp.plot(cmap='Blues', values_format='d')\n",
        "plt.title(\"Confusion Matrix Naive Bayes\")\n",
        "plt.show()"
      ],
      "metadata": {
        "colab": {
          "base_uri": "https://localhost:8080/",
          "height": 524
        },
        "id": "crAjCYMgUufL",
        "outputId": "2234928f-99e2-485e-fa69-a74f3ad53594"
      },
      "execution_count": null,
      "outputs": [
        {
          "output_type": "stream",
          "name": "stdout",
          "text": [
            "Confusion Matrix:\n",
            "[[37 14]\n",
            " [16 33]]\n"
          ]
        },
        {
          "output_type": "display_data",
          "data": {
            "text/plain": [
              "<Figure size 640x480 with 2 Axes>"
            ],
            "image/png": "[encoded data removed]"
          },
          "metadata": {}
        }
      ]
    },
    {
      "cell_type": "code",
      "source": [
        "import numpy as np\n",
        "import pandas as pd\n",
        "from sklearn.metrics import confusion_matrix, ConfusionMatrixDisplay\n",
        "\n",
        "# Define the counts\n",
        "a = 37  # True Positives\n",
        "b = 14  # False Negatives\n",
        "c = 14  # False Positives\n",
        "d = 35  # True Negatives\n",
        "\n",
        "# Create the confusion matrix\n",
        "conf_matrix = np.array([[a, b], [c, d]])\n",
        "\n",
        "# Display the confusion matrix\n",
        "print(\"Confusion Matrix:\")\n",
        "print(conf_matrix)\n",
        "\n",
        "# If you want a more visually appealing display\n",
        "disp = ConfusionMatrixDisplay(conf_matrix, display_labels=['Positive', 'Negative'])\n",
        "disp.plot(cmap='Blues', values_format='d')\n",
        "plt.title(\"Confusion Matrix Support Vector Machine\")\n",
        "plt.show()"
      ],
      "metadata": {
        "colab": {
          "base_uri": "https://localhost:8080/",
          "height": 524
        },
        "id": "dzBbnw0uUhWM",
        "outputId": "3ad8925e-8ae0-4bc3-85d8-02cb7361edca"
      },
      "execution_count": null,
      "outputs": [
        {
          "output_type": "stream",
          "name": "stdout",
          "text": [
            "Confusion Matrix:\n",
            "[[37 14]\n",
            " [14 35]]\n"
          ]
        },
        {
          "output_type": "display_data",
          "data": {
            "text/plain": [
              "<Figure size 640x480 with 2 Axes>"
            ],
            "image/png": "[encoded data removed]"
          },
          "metadata": {}
        }
      ]
    },
    {
      "cell_type": "code",
      "source": [
        "import numpy as np\n",
        "import pandas as pd\n",
        "from sklearn.metrics import confusion_matrix, ConfusionMatrixDisplay\n",
        "\n",
        "\n",
        "TN = 36\n",
        "FP = 15\n",
        "FN = 14\n",
        "TP = 35\n",
        "\n",
        "# Create the confusion matrix\n",
        "conf_matrix = np.array([[TN, FP], [FN, TP]])\n",
        "\n",
        "# Display the confusion matrix\n",
        "print(\"Confusion Matrix:\")\n",
        "print(conf_matrix)\n",
        "\n",
        "\n",
        "# Calculate Recall (Sensitivity)\n",
        "recall = TP / (TP + FN)\n",
        "\n",
        "# Calculate Precision\n",
        "precision = TP / (TP + FP)\n",
        "\n",
        "# Print the results\n",
        "print(\"Recall (Sensitivity): {:.2f}\".format(recall))\n",
        "print(\"Precision: {:.2f}\".format(precision))\n",
        "\n",
        "# If you want a more visually appealing display\n",
        "disp = ConfusionMatrixDisplay(conf_matrix, display_labels=['Positive', 'Negative'])\n",
        "disp.plot(cmap='Blues', values_format='d')\n",
        "plt.title(\"Confusion Matrix BERT Based - PyABSA\")\n",
        "plt.show()"
      ],
      "metadata": {
        "colab": {
          "base_uri": "https://localhost:8080/",
          "height": 559
        },
        "id": "HSqUaT8LVqq7",
        "outputId": "5d468804-9ec0-4499-8257-d5fc0a99d9f1"
      },
      "execution_count": null,
      "outputs": [
        {
          "output_type": "stream",
          "name": "stdout",
          "text": [
            "Confusion Matrix:\n",
            "[[36 15]\n",
            " [14 35]]\n",
            "Recall (Sensitivity): 0.71\n",
            "Precision: 0.70\n"
          ]
        },
        {
          "output_type": "display_data",
          "data": {
            "text/plain": [
              "<Figure size 640x480 with 2 Axes>"
            ],
            "image/png": "[encoded data removed]"
          },
          "metadata": {}
        }
      ]
    },
    {
      "cell_type": "markdown",
      "metadata": {
        "id": "CNNqcKS12rTq"
      },
      "source": [
        "## Testing Prediksi"
      ]
    },
    {
      "cell_type": "code",
      "source": [
        "# Given values\n",
        "f1_neg = 0.71\n",
        "f1_pos = 0.69\n",
        "n_neg = 51\n",
        "n_pos = 49\n",
        "\n",
        "# Calculate the overall F1 score\n",
        "overall_f1 = (n_neg * f1_neg + n_pos * f1_pos) / (n_neg + n_pos)\n",
        "\n",
        "print(f\"Overall F1 Score: {overall_f1:.4f}\")"
      ],
      "metadata": {
        "colab": {
          "base_uri": "https://localhost:8080/"
        },
        "id": "iDgJFu6cdiPL",
        "outputId": "0ff04278-dfe0-4162-c42d-f1535b1afb1c"
      },
      "execution_count": null,
      "outputs": [
        {
          "output_type": "stream",
          "name": "stdout",
          "text": [
            "Overall F1 Score: 0.7002\n"
          ]
        }
      ]
    },
    {
      "cell_type": "code",
      "source": [
        "# Given values\n",
        "recall_neg = 0.65\n",
        "recall_pos = 0.84\n",
        "n_neg = 51 # Replace with the number of samples in the negative class\n",
        "n_pos = 49# Replace with the number of samples in the positive class\n",
        "\n",
        "# Calculate the overall recall\n",
        "overall_recall = (n_neg * recall_neg + n_pos * recall_pos) / (n_neg + n_pos)\n",
        "\n",
        "print(f\"Overall Recall: {overall_recall:.4f}\")"
      ],
      "metadata": {
        "colab": {
          "base_uri": "https://localhost:8080/"
        },
        "id": "zqSDoNWvkGRr",
        "outputId": "06d209f1-5500-4312-9f2a-f32095f5e39a"
      },
      "execution_count": null,
      "outputs": [
        {
          "output_type": "stream",
          "name": "stdout",
          "text": [
            "Overall Recall: 0.7431\n"
          ]
        }
      ]
    },
    {
      "cell_type": "code",
      "source": [
        "# Given values\n",
        "precision_neg = 0.76\n",
        "precision_pos = 0.67\n",
        "n_neg =  51 # Replace with the number of samples in the negative class\n",
        "n_pos =  49# Replace with the number of samples in the positive class\n",
        "\n",
        "# Calculate the overall precision\n",
        "overall_precision = (n_neg * precision_neg + n_pos * precision_pos) / (n_neg + n_pos)\n",
        "\n",
        "print(f\"Overall Precision: {overall_precision:.4f}\")"
      ],
      "metadata": {
        "colab": {
          "base_uri": "https://localhost:8080/"
        },
        "id": "VUiO0d-9kp1Q",
        "outputId": "0123cd03-df64-46ab-c19b-f4d9027e1845"
      },
      "execution_count": null,
      "outputs": [
        {
          "output_type": "stream",
          "name": "stdout",
          "text": [
            "Overall Precision: 0.7159\n"
          ]
        }
      ]
    },
    {
      "cell_type": "code",
      "metadata": {
        "id": "QC5bjvv6K2T8",
        "outputId": "3325900f-afa9-4889-dd96-16df3e4af120",
        "colab": {
          "base_uri": "https://localhost:8080/"
        }
      },
      "source": [
        "# Input text\n",
        "review = \"I dont want to support Prabowo\"\n",
        "\n",
        "review_vector = tfidfconverter.transform([review]).toarray() # vectorizing\n",
        "pred_text = text_classifier_nb.predict(review_vector)\n",
        "pred_text = le.inverse_transform(pred_text)\n",
        "print(pred_text)"
      ],
      "execution_count": null,
      "outputs": [
        {
          "output_type": "stream",
          "name": "stdout",
          "text": [
            "['Positive']\n"
          ]
        }
      ]
    }
  ]
}
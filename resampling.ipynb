{
 "cells": [
  {
   "cell_type": "code",
   "execution_count": 2,
   "metadata": {},
   "outputs": [],
   "source": [
    "import pandas as pd"
   ]
  },
  {
   "cell_type": "code",
   "execution_count": 6,
   "metadata": {},
   "outputs": [],
   "source": [
    "data_anies = pd.read_csv('Indonesia Election Paper Data/cleaned data/Anies Baswedan.csv')\n",
    "data_ganjar = pd.read_csv('Indonesia Election Paper Data/cleaned data/Ganjar Pranowo.csv')\n",
    "data_prabowo = pd.read_csv('Indonesia Election Paper Data/cleaned data/Prabowo Subianto.csv')"
   ]
  },
  {
   "cell_type": "markdown",
   "metadata": {},
   "source": [
    "Untuk Train(Anies)"
   ]
  },
  {
   "cell_type": "code",
   "execution_count": 16,
   "metadata": {},
   "outputs": [],
   "source": [
    "positive_samples = data_anies[data_anies['label'] == 'Positive']\n",
    "negative_samples = data_anies[data_anies['label'] == 'Negative']\n",
    "\n",
    "random_positive_samples = positive_samples.sample(n=50, random_state=42) \n",
    "random_negative_samples = negative_samples.sample(n=50, random_state=42)\n",
    "\n",
    "random_subset = pd.concat([random_positive_samples, random_negative_samples])\n",
    "random_subset = random_subset.sample(frac=1, random_state=42).reset_index(drop=True)\n",
    "# random_subset.label.value_counts()\n",
    "random_subset.to_csv('anies_100sample_train.csv', index=False)"
   ]
  },
  {
   "cell_type": "markdown",
   "metadata": {},
   "source": [
    "Untuk Test(Anies)"
   ]
  },
  {
   "cell_type": "code",
   "execution_count": 29,
   "metadata": {},
   "outputs": [],
   "source": [
    "data_anies_train = pd.read_csv('anies_100sample.csv')\n",
    "\n",
    "unique_texts = data_anies_train['Text'].unique()\n",
    "\n",
    "test_sampling_negative = data_anies[~data_anies['Text'].isin(unique_texts) & (data_anies['label'] == 'Negative')].sample(n=50, random_state=42)\n",
    "test_sampling_positive = data_anies[~data_anies['Text'].isin(unique_texts) & (data_anies['label'] == 'Positive')].sample(n=50, random_state=42)\n",
    "\n",
    "random_subset = pd.concat([test_sampling_negative, test_sampling_positive])\n",
    "random_subset = random_subset.sample(frac=1, random_state=42).reset_index(drop=True)\n",
    "random_subset.to_csv('anies_100sample_test.csv', index=False)"
   ]
  },
  {
   "cell_type": "markdown",
   "metadata": {},
   "source": [
    "Untuk Train(Ganjar)"
   ]
  },
  {
   "cell_type": "code",
   "execution_count": 17,
   "metadata": {},
   "outputs": [],
   "source": [
    "positive_samples = data_ganjar[data_ganjar['label'] == 'Positive']\n",
    "negative_samples = data_ganjar[data_ganjar['label'] == 'Negative']\n",
    "\n",
    "random_positive_samples = positive_samples.sample(n=50, random_state=42) \n",
    "random_negative_samples = negative_samples.sample(n=50, random_state=42)\n",
    "\n",
    "random_subset = pd.concat([random_positive_samples, random_negative_samples])\n",
    "random_subset = random_subset.sample(frac=1, random_state=42).reset_index(drop=True)\n",
    "# random_subset.label.value_counts()\n",
    "random_subset.to_csv('ganjar_100sample.csv', index=False)"
   ]
  },
  {
   "cell_type": "markdown",
   "metadata": {},
   "source": [
    "Untuk Test(Ganjar)"
   ]
  },
  {
   "cell_type": "code",
   "execution_count": 33,
   "metadata": {},
   "outputs": [],
   "source": [
    "data_ganjar_train = pd.read_csv('ganjar_100sample.csv')\n",
    "\n",
    "unique_texts = data_ganjar_train['Text'].unique()\n",
    "\n",
    "test_sampling_negative = data_ganjar[~data_ganjar['Text'].isin(unique_texts) & (data_ganjar['label'] == 'Negative')].sample(n=50, random_state=42)\n",
    "test_sampling_positive = data_ganjar[~data_ganjar['Text'].isin(unique_texts) & (data_ganjar['label'] == 'Positive')].sample(n=50, random_state=42)\n",
    "\n",
    "random_subset = pd.concat([test_sampling_negative, test_sampling_positive])\n",
    "random_subset = random_subset.sample(frac=1, random_state=42).reset_index(drop=True)\n",
    "random_subset.to_csv('ganjar_100sample_test.csv', index=False)"
   ]
  },
  {
   "cell_type": "markdown",
   "metadata": {},
   "source": [
    "Untuk Train(Prabowo)"
   ]
  },
  {
   "cell_type": "code",
   "execution_count": 18,
   "metadata": {},
   "outputs": [],
   "source": [
    "positive_samples = data_prawbowo[data_prawbowo['label'] == 'Positive']\n",
    "negative_samples = data_prawbowo[data_prawbowo['label'] == 'Negative']\n",
    "\n",
    "random_positive_samples = positive_samples.sample(n=50, random_state=42) \n",
    "random_negative_samples = negative_samples.sample(n=50, random_state=42)\n",
    "\n",
    "random_subset = pd.concat([random_positive_samples, random_negative_samples])\n",
    "random_subset = random_subset.sample(frac=1, random_state=42).reset_index(drop=True)\n",
    "\n",
    "random_subset.to_csv('prabowo_100sample.csv', index=False)"
   ]
  },
  {
   "cell_type": "markdown",
   "metadata": {},
   "source": [
    "Untuk Test(Prabowo)"
   ]
  },
  {
   "cell_type": "code",
   "execution_count": 35,
   "metadata": {},
   "outputs": [],
   "source": [
    "data_prabowo_train = pd.read_csv('prabowo_100sample.csv')\n",
    "\n",
    "unique_texts = data_prabowo_train['Text'].unique()\n",
    "\n",
    "test_sampling_negative = data_prawbowo[~data_prawbowo['Text'].isin(unique_texts) & (data_prawbowo['label'] == 'Negative')].sample(n=50, random_state=42)\n",
    "test_sampling_positive = data_prawbowo[~data_prawbowo['Text'].isin(unique_texts) & (data_prawbowo['label'] == 'Positive')].sample(n=50, random_state=42)\n",
    "\n",
    "random_subset = pd.concat([test_sampling_negative, test_sampling_positive])\n",
    "random_subset = random_subset.sample(frac=1, random_state=42).reset_index(drop=True)\n",
    "random_subset.to_csv('prabowo_100sample_test.csv', index=False)"
   ]
  },
  {
   "cell_type": "markdown",
   "metadata": {},
   "source": [
    "Untuk Drop column selain ['Text']"
   ]
  },
  {
   "cell_type": "code",
   "execution_count": 20,
   "metadata": {},
   "outputs": [],
   "source": [
    "data_sample_anies = pd.read_csv('anies_100sample.csv')\n",
    "data_sample_ganjar = pd.read_csv('ganjar_100sample.csv')\n",
    "data_sample_prawbowo = pd.read_csv('prabowo_100sample.csv')"
   ]
  },
  {
   "cell_type": "code",
   "execution_count": 23,
   "metadata": {},
   "outputs": [],
   "source": [
    "data_sample_anies = data_sample_anies[[\"Text\"]]\n",
    "data_sample_anies.to_csv('anies_sample_for_ABSA.csv',index=False, header=False)\n",
    "data_sample_ganjar = data_sample_ganjar[[\"Text\"]]\n",
    "data_sample_ganjar.to_csv('ganjar_sample_for_ABSA.csv',index=False, header=False)\n",
    "data_sample_prabowo = data_sample_prawbowo[[\"Text\"]]\n",
    "data_sample_prabowo.to_csv('prabowo_sample_for_ABSA.csv',index=False, header=False)"
   ]
  },
  {
   "cell_type": "code",
   "execution_count": 36,
   "metadata": {},
   "outputs": [],
   "source": [
    "data_sample_anies_test = pd.read_csv('anies_100sample_test.csv')\n",
    "data_sample_ganjar_test = pd.read_csv('ganjar_100sample_test.csv')\n",
    "data_sample_prawbowo_test = pd.read_csv('prabowo_100sample_test.csv')"
   ]
  },
  {
   "cell_type": "code",
   "execution_count": 37,
   "metadata": {},
   "outputs": [],
   "source": [
    "data_sample_anies_test = data_sample_anies_test[[\"Text\"]]\n",
    "data_sample_anies_test.to_csv('anies_sample_for_ABSA_test.csv',index=False, header=False)\n",
    "data_sample_ganjar_test = data_sample_ganjar_test[[\"Text\"]]\n",
    "data_sample_ganjar_test.to_csv('ganjar_sample_for_ABSA_test.csv',index=False, header=False)\n",
    "data_sample_prawbowo_test = data_sample_prawbowo[[\"Text\"]]\n",
    "data_sample_prawbowo_test.to_csv('prabowo_sample_for_ABSA_test.csv',index=False, header=False)"
   ]
  },
  {
   "cell_type": "markdown",
   "metadata": {},
   "source": [
    "## Pengambilan Data 200 terbaik untuk Anies (yang memiliki beberapa aspek based)"
   ]
  },
  {
   "cell_type": "markdown",
   "metadata": {},
   "source": [
    "Anies doang"
   ]
  },
  {
   "cell_type": "code",
   "execution_count": 7,
   "metadata": {},
   "outputs": [],
   "source": [
    "anies_doang = data_anies[data_anies['Text'].str.contains('anies', na=False) \n",
    "                         & ~data_anies['Text'].str.contains('ganjar', na=False) \n",
    "                         & ~data_anies['Text'].str.contains('prabowo', na=False)]\n",
    "\n",
    "anies_doang_pos = anies_doang[anies_doang['label'] == 'Positive']\n",
    "anies_doang_neg = anies_doang[anies_doang['label'] == 'Negative'] \n",
    "                              \n",
    "anies_doang_neg = anies_doang_neg[anies_doang_neg['Text'].str.contains(\"don't vote\", na=False)\n",
    "                              | anies_doang_neg['Text'].str.contains(\"who voted for anies\", na=False)\n",
    "                              | anies_doang_neg['Text'].str.contains(\"don't let\", na=False)\n",
    "                              | anies_doang_neg['Text'].str.contains(\"he failed\", na=False)\n",
    "                              | anies_doang_neg['Text'].str.contains(\"must be revised\", na=False)\n",
    "                              | anies_doang_neg['Text'].str.contains(\"must be revised\", na=False)\n",
    "                              | anies_doang_neg['Text'].str.contains(\"stupid\", na=False)\n",
    "                              | anies_doang_neg['Text'].str.contains(\"reject\", na=False)\n",
    "                              ]\n",
    "\n",
    "anies_doang_neg = anies_doang_neg[\n",
    "    ~anies_doang_neg['Text'].str.contains(\"support president anies\", na=False)\n",
    "    & ~anies_doang_neg['Text'].str.contains(\"support anies\", na=False)\n",
    "    & ~anies_doang_neg['Text'].str.contains(\"mr. anies is the president\", na=False)\n",
    "    & ~anies_doang_neg['Text'].str.contains(\"vote for mr. anies\", na=False)\n",
    "    & ~anies_doang_neg['Text'].str.contains(\"anies is your president\", na=False)\n",
    "    & ~anies_doang_neg['Text'].str.contains(\"raise the status of bang anies\", na=False)\n",
    "    & ~anies_doang_neg['Text'].str.contains(\"succeed anies president\", na=False)\n",
    "    & ~anies_doang_neg['Text'].str.contains(\"jokowi held a banana\", na=False)\n",
    "    & ~anies_doang_neg['Text'].str.contains(\"president of the year\", na=False)]\n",
    "\n",
    "anies_doang_pos = anies_doang_pos[\n",
    "    ~anies_doang_pos['Text'].str.contains(\"hasto\", na=False)\n",
    "    & ~anies_doang_pos['Text'].str.contains(\"pdon't be greedy\", na=False)]\n",
    "\n",
    "anies_doang_pos = anies_doang_pos.sample(n=35, random_state=42) \n",
    "anies_doang_neg = anies_doang_neg.sample(n=35, random_state=42) "
   ]
  },
  {
   "cell_type": "code",
   "execution_count": null,
   "metadata": {},
   "outputs": [],
   "source": [
    "anies_doang_neg['Text'].values"
   ]
  },
  {
   "cell_type": "markdown",
   "metadata": {},
   "source": [
    "Anies prabowo"
   ]
  },
  {
   "cell_type": "code",
   "execution_count": 14,
   "metadata": {},
   "outputs": [
    {
     "data": {
      "text/plain": [
       "Positive    186\n",
       "Negative     75\n",
       "Name: label, dtype: int64"
      ]
     },
     "execution_count": 14,
     "metadata": {},
     "output_type": "execute_result"
    }
   ],
   "source": [
    "anies_prabowo = data_anies[data_anies['Text'].str.contains('anies', na=False) & data_anies['Text'].str.contains('prabowo', na=False) & ~data_anies['Text'].str.contains('ganjar', na=False)]\n",
    "anies_prabowo['label'].value_counts()"
   ]
  },
  {
   "cell_type": "code",
   "execution_count": 15,
   "metadata": {},
   "outputs": [],
   "source": [
    "anies_prabowo_pos = anies_prabowo[anies_prabowo['label'] == 'Positive']\n",
    "anies_prabowo_neg = anies_prabowo[anies_prabowo['label'] == 'Negative'] \n",
    "\n",
    "anies_prabowo_neg = anies_prabowo_neg[\n",
    "    ~anies_prabowo_neg['Text'].str.contains(\"click the link\", na=False)\n",
    "    & ~anies_prabowo_neg['Text'].str.contains(\"who do you vote for as president\", na=False)\n",
    "    & ~anies_prabowo_neg['Text'].str.contains(\"gus harimurti yudhoyono\", na=False)\n",
    "    & ~anies_prabowo_neg['Text'].str.contains(\"airlangga hartarto\", na=False)\n",
    "    & ~anies_prabowo_neg['Text'].str.contains(\"who is your preferred presidential candidate\", na=False)\n",
    "    & ~anies_prabowo_neg['Text'].str.contains(\"punished by anies\", na=False)\n",
    "    & ~anies_prabowo_neg['Text'].str.contains(\"ufc anies baswedan russian president prabowo\", na=False)\n",
    "    & ~anies_prabowo_neg['Text'].str.contains(\"anies' electability skyrocketed\", na=False)\n",
    "    & ~anies_prabowo_neg['Text'].str.contains(\"jokowi anies president\", na=False)]\n",
    "\n",
    "anies_prabowo_pos = anies_prabowo_pos.sample(n=35, random_state=42) \n",
    "anies_prabowo_neg = anies_prabowo_neg.sample(n=30, random_state=42) \n"
   ]
  },
  {
   "cell_type": "code",
   "execution_count": null,
   "metadata": {},
   "outputs": [],
   "source": [
    "anies_prabowo_neg['Text'].values"
   ]
  },
  {
   "cell_type": "markdown",
   "metadata": {},
   "source": [
    "Anies Ganjar"
   ]
  },
  {
   "cell_type": "code",
   "execution_count": 304,
   "metadata": {},
   "outputs": [
    {
     "data": {
      "text/plain": [
       "Positive    83\n",
       "Negative    62\n",
       "Name: label, dtype: int64"
      ]
     },
     "execution_count": 304,
     "metadata": {},
     "output_type": "execute_result"
    }
   ],
   "source": [
    "anies_ganjar = data_anies[data_anies['Text'].str.contains('anies', na=False) & data_anies['Text'].str.contains('ganjar', na=False)]\n",
    "# filtered_df['Text'].values\n",
    "anies_ganjar['label'].value_counts()"
   ]
  },
  {
   "cell_type": "code",
   "execution_count": 305,
   "metadata": {},
   "outputs": [],
   "source": [
    "anies_ganjar_pos = anies_ganjar[anies_ganjar['label'] == 'Positive']\n",
    "anies_ganjar_neg = anies_ganjar[anies_ganjar['label'] == 'Negative'] \n",
    "\n",
    "anies_ganjar_neg = anies_ganjar_neg[\n",
    "    ~anies_ganjar_neg['Text'].str.contains(\"who is suitable to be president next agus harimurti\", na=False)\n",
    "    & ~anies_ganjar_neg['Text'].str.contains(\"erlangga ganjar prabowo\", na=False)\n",
    "    & ~anies_ganjar_neg['Text'].str.contains(\"ganjar pranowo met directly\", na=False)\n",
    "    & ~anies_ganjar_neg['Text'].str.contains(\"susi pudjiastuti\", na=False)\n",
    "    & ~anies_ganjar_neg['Text'].str.contains(\"ridwan kamil jokowi\", na=False)]\n",
    "\n",
    "anies_ganjar_pos = anies_ganjar_pos.sample(n=35, random_state=42) \n",
    "anies_ganjar_neg = anies_ganjar_neg.sample(n=30, random_state=42) "
   ]
  },
  {
   "cell_type": "code",
   "execution_count": 157,
   "metadata": {},
   "outputs": [
    {
     "name": "stdout",
     "output_type": "stream",
     "text": [
      "<class 'pandas.core.series.Series'>\n",
      "Int64Index: 30 entries, 321 to 6337\n",
      "Series name: Text\n",
      "Non-Null Count  Dtype \n",
      "--------------  ----- \n",
      "30 non-null     object\n",
      "dtypes: object(1)\n",
      "memory usage: 480.0+ bytes\n"
     ]
    }
   ],
   "source": [
    "anies_ganjar_neg[\"Text\"].info()"
   ]
  },
  {
   "cell_type": "code",
   "execution_count": 306,
   "metadata": {},
   "outputs": [],
   "source": [
    "df_anies_sample = pd.concat([anies_doang_pos, anies_doang_neg, anies_prabowo_pos,\n",
    "                      anies_prabowo_neg, anies_ganjar_pos, anies_ganjar_neg], ignore_index=True)\n",
    "\n",
    "df_anies_sample = df_anies_sample[[\"Text\",\"label\"]]"
   ]
  },
  {
   "cell_type": "code",
   "execution_count": null,
   "metadata": {},
   "outputs": [],
   "source": [
    "df_anies_sample.to_csv('anies_sample_200.csv',index=False)\n",
    "df_anies_sample"
   ]
  },
  {
   "cell_type": "code",
   "execution_count": 312,
   "metadata": {},
   "outputs": [],
   "source": [
    "df_anies = pd.read_csv(\"anies_sample_200.csv\")"
   ]
  },
  {
   "cell_type": "code",
   "execution_count": 313,
   "metadata": {},
   "outputs": [],
   "source": [
    "import pandas as pd\n",
    "from sklearn.model_selection import train_test_split\n",
    "\n",
    "def split_data(df):\n",
    "    train_df, test_df = train_test_split(df_anies, test_size=0.5, random_state=42)\n",
    "    return train_df, test_df"
   ]
  },
  {
   "cell_type": "code",
   "execution_count": 314,
   "metadata": {},
   "outputs": [],
   "source": [
    "train_df_anies, test_df_anies = train_test_split(df_anies_sample, test_size=0.5, random_state=42)"
   ]
  },
  {
   "cell_type": "code",
   "execution_count": 315,
   "metadata": {},
   "outputs": [],
   "source": [
    "train_df_anies.to_csv(\"anies_train_100.csv\",index=False)\n",
    "test_df_anies.to_csv(\"anies_test_100.csv\",index=False)"
   ]
  },
  {
   "cell_type": "markdown",
   "metadata": {},
   "source": [
    "## Pengambilan Data 200 terbaik untuk Prabowo (yang memiliki beberapa aspek based)"
   ]
  },
  {
   "cell_type": "markdown",
   "metadata": {},
   "source": [
    "Prabowo doang"
   ]
  },
  {
   "cell_type": "code",
   "execution_count": 182,
   "metadata": {},
   "outputs": [],
   "source": [
    "prabowo_doang = data_prabowo[data_prabowo['Text'].str.contains('prabowo', na=False) \n",
    "                         & ~data_prabowo['Text'].str.contains('ganjar', na=False) \n",
    "                         & ~data_prabowo['Text'].str.contains('anies', na=False)]"
   ]
  },
  {
   "cell_type": "code",
   "execution_count": 212,
   "metadata": {},
   "outputs": [
    {
     "data": {
      "text/plain": [
       "Positive    17\n",
       "Negative    13\n",
       "Name: label, dtype: int64"
      ]
     },
     "execution_count": 212,
     "metadata": {},
     "output_type": "execute_result"
    }
   ],
   "source": [
    "prabowo_doang['label'].value_counts()"
   ]
  },
  {
   "cell_type": "markdown",
   "metadata": {},
   "source": [
    "Prabowo Anies"
   ]
  },
  {
   "cell_type": "code",
   "execution_count": 202,
   "metadata": {},
   "outputs": [],
   "source": [
    "prabowo_anies = data_prabowo[data_prabowo['Text'].str.contains('prabowo', na=False) & data_prabowo['Text'].str.contains('anies', na=False)]"
   ]
  },
  {
   "cell_type": "code",
   "execution_count": 221,
   "metadata": {},
   "outputs": [],
   "source": [
    "prabowo_anies_pos = prabowo_anies[prabowo_anies['label'] == 'Positive']\n",
    "prabowo_anies_neg = prabowo_anies[prabowo_anies['label'] == 'Negative'] \n",
    "\n",
    "prabowo_anies_neg = prabowo_anies_neg[\n",
    "    ~prabowo_anies_neg['Text'].str.contains(\"who do you vote for as president of\", na=False)\n",
    "    & ~prabowo_anies_neg['Text'].str.contains(\"erlangga ganjar prabowo\", na=False)\n",
    "    & ~prabowo_anies_neg['Text'].str.contains(\"who do you vote for president\", na=False)\n",
    "    & ~prabowo_anies_neg['Text'].str.contains(\"who is suitable to be president next agus\", na=False)\n",
    "    & ~prabowo_anies_neg['Text'].str.contains(\"susi pudjiastuti\", na=False)\n",
    "    & ~prabowo_anies_neg['Text'].str.contains(\"ridwan kamil jokowi\", na=False)]\n",
    "\n",
    "\n",
    "prabowo_anies_pos = prabowo_anies_pos.sample(n=40, random_state=42) \n",
    "prabowo_anies_neg = prabowo_anies_neg.sample(n=45, random_state=42) "
   ]
  },
  {
   "cell_type": "code",
   "execution_count": null,
   "metadata": {},
   "outputs": [],
   "source": [
    "prabowo_anies_neg.info()"
   ]
  },
  {
   "cell_type": "markdown",
   "metadata": {},
   "source": [
    "Prabowo Ganjar"
   ]
  },
  {
   "cell_type": "code",
   "execution_count": 206,
   "metadata": {},
   "outputs": [],
   "source": [
    "prabowo_ganjar = data_prabowo[data_prabowo['Text'].str.contains('prabowo', na=False) & data_prabowo['Text'].str.contains('ganjar', na=False)]"
   ]
  },
  {
   "cell_type": "code",
   "execution_count": 215,
   "metadata": {},
   "outputs": [
    {
     "data": {
      "text/plain": [
       "Negative    44\n",
       "Positive    41\n",
       "Name: label, dtype: int64"
      ]
     },
     "execution_count": 215,
     "metadata": {},
     "output_type": "execute_result"
    }
   ],
   "source": [
    "prabowo_ganjar['label'].value_counts()"
   ]
  },
  {
   "cell_type": "code",
   "execution_count": 222,
   "metadata": {},
   "outputs": [],
   "source": [
    "df_prabowo_sample = pd.concat([prabowo_doang, prabowo_anies_pos,\n",
    "                      prabowo_anies_neg, prabowo_ganjar], ignore_index=True)\n",
    "\n",
    "df_prabowo_sample = df_prabowo_sample[[\"Text\",\"label\"]]"
   ]
  },
  {
   "cell_type": "code",
   "execution_count": 224,
   "metadata": {},
   "outputs": [],
   "source": [
    "df_prabowo_sample.to_csv('prabowo_sample_200.csv',index=False)"
   ]
  },
  {
   "cell_type": "code",
   "execution_count": 316,
   "metadata": {},
   "outputs": [],
   "source": [
    "df_prabowo = pd.read_csv(\"prabowo_sample_200.csv\")"
   ]
  },
  {
   "cell_type": "code",
   "execution_count": 317,
   "metadata": {},
   "outputs": [],
   "source": [
    "train_df_prabowo, test_df_prabowo = train_test_split(df_prabowo, test_size=0.5, random_state=42)"
   ]
  },
  {
   "cell_type": "code",
   "execution_count": 319,
   "metadata": {},
   "outputs": [],
   "source": [
    "train_df_prabowo.to_csv(\"prabowo_train_100.csv\",index=False)\n",
    "test_df_prabowo.to_csv(\"prabowo_test_100.csv\",index=False)"
   ]
  },
  {
   "cell_type": "markdown",
   "metadata": {},
   "source": [
    "## Pengambilan Data 200 terbaik untuk Ganjar (yang memiliki beberapa aspek based)"
   ]
  },
  {
   "cell_type": "markdown",
   "metadata": {},
   "source": [
    "Ganjar doang"
   ]
  },
  {
   "cell_type": "code",
   "execution_count": 282,
   "metadata": {},
   "outputs": [],
   "source": [
    "ganjar_doang = data_ganjar[data_ganjar['Text'].str.contains('ganjar', na=False) \n",
    "                         & ~data_ganjar['Text'].str.contains('prabowo', na=False) \n",
    "                         & ~data_ganjar['Text'].str.contains('anies', na=False)]\n",
    "\n",
    "ganjar_doang_pos = ganjar_doang[ganjar_doang['label'] == 'Positive']\n",
    "ganjar_doang_neg = ganjar_doang[ganjar_doang['label'] == 'Negative']\n",
    "\n",
    "ganjar_doang_neg = ganjar_doang_neg[\n",
    "    ~ganjar_doang_neg['Text'].str.contains(\"mr ganjar pranowo, president\", na=False)\n",
    "    & ~ganjar_doang_neg['Text'].str.contains(\"president joko widodo\", na=False)\n",
    "    & ~ganjar_doang_neg['Text'].str.contains(\"documentation of the activities\", na=False)\n",
    "    & ~ganjar_doang_neg['Text'].str.contains(\"prayer\", na=False)\n",
    "    & ~ganjar_doang_neg['Text'].str.contains(\"pranowo president\", na=False)\n",
    "    & ~ganjar_doang_neg['Text'].str.contains(\"ganjar for president\", na=False)\n",
    "    & ~ganjar_doang_neg['Text'].str.contains(\"president pranowo\", na=False)\n",
    "    & ~ganjar_doang_neg['Text'].str.contains(\"our choice\", na=False)\n",
    "    & ~ganjar_doang_neg['Text'].str.contains(\"president ganjar pranowo\", na=False)\n",
    "    & ~ganjar_doang_neg['Text'].str.contains(\"srikandi ganjar dpw south sulawesi held\", na=False)\n",
    "    & ~ganjar_doang_neg['Text'].str.contains(\"the next president ri ganjar pranowo\", na=False)\n",
    "    & ~ganjar_doang_neg['Text'].str.contains(\"pranowo for president\", na=False)]\n",
    "\n",
    "ganjar_doang_pos = ganjar_doang_pos.sample(n=50, random_state=42) \n",
    "ganjar_doang_neg = ganjar_doang_neg.sample(n=50, random_state=42) "
   ]
  },
  {
   "cell_type": "code",
   "execution_count": null,
   "metadata": {},
   "outputs": [],
   "source": [
    "ganjar_doang_neg['Text'].values"
   ]
  },
  {
   "cell_type": "markdown",
   "metadata": {},
   "source": [
    "Ganjar Anies"
   ]
  },
  {
   "cell_type": "code",
   "execution_count": 263,
   "metadata": {},
   "outputs": [],
   "source": [
    "ganjar_anies = data_ganjar[data_ganjar['Text'].str.contains('ganjar', na=False) & data_ganjar['Text'].str.contains('anies', na=False)]"
   ]
  },
  {
   "cell_type": "code",
   "execution_count": 283,
   "metadata": {},
   "outputs": [],
   "source": [
    "ganjar_anies_pos = ganjar_anies[ganjar_anies['label'] == 'Positive']\n",
    "ganjar_anies_neg = ganjar_anies[ganjar_anies['label'] == 'Negative']\n",
    "\n",
    "ganjar_anies_neg = ganjar_anies_neg[\n",
    "    ~ganjar_anies_neg['Text'].str.contains(\"who do you vote for as president of indonesia\", na=False)\n",
    "    & ~ganjar_anies_neg['Text'].str.contains(\"who is suitable to be president\", na=False)\n",
    "    & ~ganjar_anies_neg['Text'].str.contains(\"central java governor ganjar pranowo\", na=False)\n",
    "    & ~ganjar_anies_neg['Text'].str.contains(\"ridwan kamil\", na=False)\n",
    "    & ~ganjar_anies_neg['Text'].str.contains(\"andi yusran\", na=False)\n",
    "    & ~ganjar_anies_neg['Text'].str.contains(\"who do you vote for president\", na=False)]\n",
    "\n",
    "ganjar_anies_pos = ganjar_anies_pos[\n",
    "    ~ganjar_anies_pos['Text'].str.contains(\"who do you vote for as president of indonesia\", na=False)\n",
    "    & ~ganjar_anies_pos['Text'].str.contains(\"who is suitable to be president\", na=False)\n",
    "    & ~ganjar_anies_pos['Text'].str.contains(\"central java governor ganjar pranowo\", na=False)\n",
    "    & ~ganjar_anies_pos['Text'].str.contains(\"who do you vote for president\", na=False)]\n",
    "\n",
    "ganjar_anies_pos = ganjar_anies_pos.sample(n=25, random_state=42) \n",
    "ganjar_anies_neg = ganjar_anies_neg.sample(n=25, random_state=42) "
   ]
  },
  {
   "cell_type": "markdown",
   "metadata": {},
   "source": [
    "Ganjar Prabowo"
   ]
  },
  {
   "cell_type": "code",
   "execution_count": 274,
   "metadata": {},
   "outputs": [],
   "source": [
    "ganjar_prabowo = data_ganjar[data_ganjar['Text'].str.contains('ganjar', na=False) & data_ganjar['Text'].str.contains('prabowo', na=False)]"
   ]
  },
  {
   "cell_type": "code",
   "execution_count": 284,
   "metadata": {},
   "outputs": [],
   "source": [
    "ganjar_prabowo_pos = ganjar_prabowo[ganjar_prabowo['label'] == 'Positive']\n",
    "ganjar_prabowo_neg = ganjar_prabowo[ganjar_prabowo['label'] == 'Negative']\n",
    "\n",
    "ganjar_prabowo_neg = ganjar_prabowo_neg[\n",
    "    ~ganjar_prabowo_neg['Text'].str.contains(\"who do you vote for as president of indonesia\", na=False)\n",
    "    & ~ganjar_prabowo_neg['Text'].str.contains(\"who is suitable to be president\", na=False)\n",
    "    & ~ganjar_prabowo_neg['Text'].str.contains(\"central java governor ganjar pranowo\", na=False)\n",
    "    & ~ganjar_prabowo_neg['Text'].str.contains(\"dasco did not see\", na=False)\n",
    "    & ~ganjar_prabowo_neg['Text'].str.contains(\"who do you vote for president\", na=False)]\n",
    "\n",
    "ganjar_prabowo_pos = ganjar_prabowo_pos.sample(n=25, random_state=42) \n",
    "ganjar_prabowo_neg = ganjar_prabowo_neg.sample(n=25, random_state=42) "
   ]
  },
  {
   "cell_type": "code",
   "execution_count": null,
   "metadata": {},
   "outputs": [],
   "source": [
    "ganjar_prabowo_neg['Text'].values"
   ]
  },
  {
   "cell_type": "code",
   "execution_count": 285,
   "metadata": {},
   "outputs": [],
   "source": [
    "df_ganjar_sample = pd.concat([ganjar_doang_pos, ganjar_doang_neg, ganjar_anies_pos,\n",
    "                      ganjar_anies_neg, ganjar_prabowo_pos, ganjar_prabowo_pos], ignore_index=True)\n",
    "\n",
    "df_ganjar_sample = df_ganjar_sample[[\"Text\",\"label\"]]"
   ]
  },
  {
   "cell_type": "code",
   "execution_count": 287,
   "metadata": {},
   "outputs": [],
   "source": [
    "df_ganjar_sample.to_csv('ganjar_sample_200.csv',index=False)"
   ]
  },
  {
   "cell_type": "code",
   "execution_count": 320,
   "metadata": {},
   "outputs": [],
   "source": [
    "df_ganjar = pd.read_csv(\"ganjar_sample_200.csv\")"
   ]
  },
  {
   "cell_type": "code",
   "execution_count": 321,
   "metadata": {},
   "outputs": [],
   "source": [
    "train_df_ganjar, test_df_ganjar = train_test_split(df_ganjar, test_size=0.5, random_state=42)"
   ]
  },
  {
   "cell_type": "code",
   "execution_count": 322,
   "metadata": {},
   "outputs": [],
   "source": [
    "train_df_ganjar.to_csv(\"ganjar_train_100.csv\",index=False)\n",
    "test_df_ganjar.to_csv(\"ganjar_test_100.csv\",index=False)"
   ]
  },
  {
   "cell_type": "markdown",
   "metadata": {},
   "source": [
    "========================================================================================================================================="
   ]
  },
  {
   "cell_type": "code",
   "execution_count": 292,
   "metadata": {},
   "outputs": [
    {
     "data": {
      "text/plain": [
       "Positive    61\n",
       "Negative    39\n",
       "Name: label, dtype: int64"
      ]
     },
     "execution_count": 292,
     "metadata": {},
     "output_type": "execute_result"
    }
   ],
   "source": [
    "test_df_ganjar['label'].value_counts()"
   ]
  },
  {
   "cell_type": "code",
   "execution_count": 293,
   "metadata": {},
   "outputs": [
    {
     "data": {
      "text/plain": [
       "Negative    54\n",
       "Positive    46\n",
       "Name: label, dtype: int64"
      ]
     },
     "execution_count": 293,
     "metadata": {},
     "output_type": "execute_result"
    }
   ],
   "source": [
    "test_df_prabowo['label'].value_counts()"
   ]
  },
  {
   "cell_type": "code",
   "execution_count": null,
   "metadata": {},
   "outputs": [],
   "source": [
    "def from_csv_to_ABSA_format(filename, type):\n",
    "    df = pd.read_csv(filename)\n",
    "    df = df[['Text']]\n",
    "    df.to_csv(\"ganjar_\" + type +\"_ABSA.csv\",index=False, header=False)"
   ]
  },
  {
   "cell_type": "code",
   "execution_count": 331,
   "metadata": {},
   "outputs": [],
   "source": [
    "df_ganjar = pd.read_csv(\"ganjar_test_100.csv\")\n",
    "df_ganjar = df_ganjar[['Text']]\n",
    "df_ganjar.to_csv(\"ganjar_test_ABSA.csv\",index=False, header=False)"
   ]
  },
  {
   "cell_type": "markdown",
   "metadata": {},
   "source": [
    "# Baru NIHH resampling nyaa"
   ]
  },
  {
   "cell_type": "code",
   "execution_count": 22,
   "metadata": {},
   "outputs": [],
   "source": [
    "data_anies = pd.read_csv(\"anies_1-dec-2023__5-jan-2024.csv\")"
   ]
  },
  {
   "cell_type": "code",
   "execution_count": 41,
   "metadata": {},
   "outputs": [],
   "source": [
    "anies_doang = data_anies[data_anies['clean_text_for_translate'].str.contains('anies', na=False) \n",
    "                         & ~data_anies['clean_text_for_translate'].str.contains('ganjar', na=False) \n",
    "                         & ~data_anies['clean_text_for_translate'].str.contains('prabowo', na=False)]\n",
    "\n",
    "anies_doang_pos = anies_doang[anies_doang['label'] == 1]\n",
    "anies_doang_neg = anies_doang[anies_doang['label'] == -1] \n",
    "\n",
    "anies_doang_pos = anies_doang_pos.sample(n=25, random_state=42) \n",
    "anies_doang_neg = anies_doang_neg.sample(n=25, random_state=42) "
   ]
  },
  {
   "cell_type": "code",
   "execution_count": 42,
   "metadata": {},
   "outputs": [
    {
     "data": {
      "text/plain": [
       "array([\"Pak surely won't believe in the false promises of Anies and Cakimin\",\n",
       "       '3 Interesting Facts Abah Aos Spiritual Teacher Eka Anugrah who was once viral Buntur Sayings about Imam Mahdi, Rocky Gerung, and Anies Baswedan',\n",
       "       \"The zero rupiah dp promised the bulging conducted by Anies Baswedan when the 2017 Jakarta Regional Head Election advanced because from the beginning to the completion of his term in DKI Jakarta the promise of the bulging was never realized and kept and then where the wrong location? he's just a speak up facts\",\n",
       "       'Anies Baswedan, in your debate like bringing a spirit of kindness.',\n",
       "       'PBNU Chairperson Yahya Cholil Staquf joked about Paslon One will lose in the 2024 Presidential Election. Candidate Anies Baswedan responded casually to the joke. For Anies, more focused on making support by continuing to travel around Indonesia.',\n",
       "       \"This political party requires money. And political costs have never been considered in the political process. It is time for political financing to be calculated correctly. There is transparency, '' said presidential candidate number 1, Anies Baswedan. & lt # aniesbaswedan\",\n",
       "       'Try asking the Roban and his friends, why did Mr. Anies choose Cak Imin?',\n",
       "       'With its various initiatives in developing Jakarta Anies Baswedan succeeded in building a developed city',\n",
       "       \"Let's support Mr. Anies Baswedan to make changes in the legal field so that justice can be upheld with his fairest\",\n",
       "       'Anies Baswedan and Muhaimin Iskandar are expected to bring positive changes',\n",
       "       'And I try to compare with the other candidates, the answer must be different, this, he Anies Baswedan is truly an answer that thrills my heart is extraordinary, the Prophet Muhammad, if the person does not idolize the Prophet Muhammad, it is impossible to answer the one like him. Masha Allah .....',\n",
       "       'sorry yes even though the artist ... still Anies Baswedan is popular in Jakarta citizens',\n",
       "       'opinions on anies baswedan government vary , with supporters praising his efforts to address urban issues and critics expressing concerns about certain policy decisions . public perspectives often depend on individual priorities and values . # menangseputaran',\n",
       "       'Mr. Anis Matta? May, please be RT. If Mr. Anies Baswedan, well, God willing, the President.',\n",
       "       'Everyone who watched on TV or anywhere know the presidential debate that is superior yes Mr. Anies Baswedan',\n",
       "       'Many North Sumatra electoral district? I still want me to nyonlos this ABG instead of SI even though I have chosen President Anies R. Baswedan. brother still use rationalist in thinking ...',\n",
       "       'You just feel that your datjal is the pantun that insulted Anies Baswedan, you are not your cultural Pecungdang in Indonesia, you feel the most correct basic Datjal, now you just enjoy you are eaten by your pet, still better python is full not biting, your child is swallowed',\n",
       "       'DKI infiltration wells proud of Anies Baswedan make road users hot === Research and Development Survey Kompas Point Coffee Unfoll Hello Nepo Baby Baby Boxing Day Jisoo Eunhyuk Eunhyuk Lukas Enembe Gen 12 Huang Renje Bank You Tuku',\n",
       "       'Mr. Anies is really suitable for pairs with Cak Imin, Bismillah wins',\n",
       "       'Special Yogyakarta to celebrate the new year 2024 with family. Hopefully this year will bring good luck and success for Anies Baswedan on his political journey.',\n",
       "       'Predictions, this is only a prediction yes brother & amp sis History of the success of PA Anies Baswedan, when the DKI Pilgub used to be repeated in the Presidential Election later.',\n",
       "       'Praise for Anies Baswedan who focuses on the substance of ideas. If there is an idea, it should not be excessive with irrelevant dancing.',\n",
       "       'Instead of building 40 new cities or not Cak Imin should create 40 people whose models are like Anies Baswedan',\n",
       "       'Anies Baswedan, your supporters miss a better attitude.',\n",
       "       'Yes, Han, but Anies\\'s urged target of the audience is not much different from Twitter, namely intellectuals. The amount of homework 01 is precisely in grassroot. Maybe Cak Imin has tried to reach there, but honestly you think it\\'s still really lacking. Blom if we discuss casual social media campaigns \"\"'],\n",
       "      dtype=object)"
      ]
     },
     "execution_count": 42,
     "metadata": {},
     "output_type": "execute_result"
    }
   ],
   "source": [
    "anies_doang_pos.translate.values"
   ]
  },
  {
   "cell_type": "code",
   "execution_count": 43,
   "metadata": {},
   "outputs": [
    {
     "data": {
      "text/plain": [
       "array([\"One of Anies Baswedan's policies is the corruptor. The punishment most feared by corruptors is fear of poor. lost all his wealth. The spirit of voting number 1 image of Anies Baswedan. . # AMINAJADULU # ANIESMUHAIMIN2024 # MVP\",\n",
       "       \"Pak Anies himself seems to be an idea. Anies sees that many young people have not yet determined the choice and section of Anise's urges according to the critical students' souls.\",\n",
       "       'Kekeh did not want Anies Baswedan to become president despite being a spokesman, Pandji Pragiwaksono was worried about this',\n",
       "       'Anies is already very trained with the media, which is less mng Imin, sometimes excessive or out of control. Pwnting for the color of the couple but must also pay attention to what kind of sentiment.',\n",
       "       \"After the events of May 21-22, 2019, preferred to the white group in each of the upcoming elections. But seeing Anies Baswedan's performance while in Jakarta, and was attacked by his personal people who did not know him directly, I think I changed my mind. # Aniesmuhaimin2024\",\n",
       "       \"We miss FPI & Amp Banser (united) .... Since Anies & Amp Cak Imin united, now we rarely hear the word tadpole + damn + kadrun ....! Don't have the word Cebong + damn + Kadrun between us again .... Let's Unite for Indonesia\",\n",
       "       'IKN let it be a metropolitization. Cities that are political victims, due to the greed of the authorities and oligarchy. So IKN will not be possible by President Anies Rasyid Baswedan.',\n",
       "       \"Sental MK Decision, Anies Baswedan: This 'Ordal' phenomenon is annoying\",\n",
       "       'Only cheating can beat Anies Baswedan',\n",
       "       'The presidential debate, Anies Baswedan, was accused of not ethical: this said this KBA CEO ...',\n",
       "       'Anies Baswedan invited its citizens to show the power of the nation with a spirit of struggle.',\n",
       "       'a lot of money to bribe kiyai one of the boarding schools so as not to win Mr. Anies Baswedan in the 2024 Presidential Election is very savage',\n",
       "       \"Economist who is also the Director of the Institute for Demographic and Poverty Studies (Ideas) Yusuf Wibisono approved Anies Baswedan's attitude. According to him, the problem in Jakarta should be resolved not by moving the capital.\",\n",
       "       \"Common sense can see clearly that Democrats are indeed unethical to suppress Anies Baswedan to make AHY as his running mate with Anies's hostages unable to go to the KPU without the support of Democrats. Anies has surrendered with the coercion of Democrats, until PKB entered\",\n",
       "       \"After hearing Pak Anies Baswedan's explanation, hopefully no one understands netijen. . Wakanda No More Indonesia\",\n",
       "       'dead price Anies Baswedan .. Starfruit Vegetable Dead Price .. # Democracysamsulfat # Democracysamsulfat',\n",
       "       'Anies Baswedan: Food Estate has failed and only planting cassava',\n",
       "       'This is Anies Baswedan far, tired, hit by traffic from Jakarta to Indramayu, in order to absorb the aspirations of a bankrupt restaurant entrepreneur who was affected by toll road construction! What was found was not thousands of times, but no more than 10 people.',\n",
       "       \"Crazy, let's choose Anies Baswedan, a very extraordinary leader\",\n",
       "       'Wakanda No More. Indonesia Forever (Anies Rasyid Baswedan)',\n",
       "       'We are not in favor of. Cuma investigates, assesses, the facts of the greatest leader for the people of IndonesiaBPK. H. Anies Baswedan World Class Leaders Want to see all the people of Indonesia happy regardless of the Zholim & Amp Crony 2 regime that the Devil Hell',\n",
       "       '-Odal is very annoying- Anies Baswedan',\n",
       "       'indeed there is no match for Anies Baswedan',\n",
       "       \"Ustadz Surya Paloh has 8 T, how come it doesn't donate to Ust Anies Baswedan Yak. Poor a new campaign fund period 1 m.\",\n",
       "       'The beginning of divisions began to occur in Indonesia because of many racism from Anies Baswedan'],\n",
       "      dtype=object)"
      ]
     },
     "execution_count": 43,
     "metadata": {},
     "output_type": "execute_result"
    }
   ],
   "source": [
    "anies_doang_neg.translate.values"
   ]
  },
  {
   "cell_type": "code",
   "execution_count": null,
   "metadata": {},
   "outputs": [],
   "source": []
  }
 ],
 "metadata": {
  "kernelspec": {
   "display_name": "Python 3",
   "language": "python",
   "name": "python3"
  },
  "language_info": {
   "codemirror_mode": {
    "name": "ipython",
    "version": 3
   },
   "file_extension": ".py",
   "mimetype": "text/x-python",
   "name": "python",
   "nbconvert_exporter": "python",
   "pygments_lexer": "ipython3",
   "version": "3.9.1"
  }
 },
 "nbformat": 4,
 "nbformat_minor": 2
}
